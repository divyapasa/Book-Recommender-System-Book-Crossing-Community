{
 "cells": [
  {
   "cell_type": "markdown",
   "id": "02b659b8",
   "metadata": {},
   "source": [
    "# Book Recommendation System"
   ]
  },
  {
   "cell_type": "markdown",
   "id": "a31de190",
   "metadata": {},
   "source": [
    "## INDEX:\n",
    "    \n",
    "### - INTRODUCTION\n",
    "The Book-Crossing dataset is a collection of ratings and reviews for over 270,000 books from the Book-Crossing community. The dataset includes information on each book's title, author, publication year, and publisher, as well as ratings and reviews from the community's members. The ratings range from 0 to 10, with higher ratings indicating that the reader enjoyed the book more. This dataset is used for building recommendation systems and studying user behavior and preferences in the context of book reading.\n",
    "\n",
    "### - Import libraries\n",
    "\n",
    "### - EDA (Exploratory data analysis)\n",
    "    \n",
    "    Load the dataset\n",
    "\n",
    "    Check the number of rows and columns in each dataset\n",
    "\n",
    "    Check for missing values\n",
    "\n",
    "    Check outliers on 3 dataframes\n",
    "    \n",
    "    Checks for duplicates in all three dataframes \n",
    "    \n",
    "    To check if books published after 2022\n",
    "    \n",
    "    check for book rating of books that were published after 2022\n",
    "    \n",
    "    Update the year of publication column with the correct information\n",
    "    \n",
    "    To check the results of the updated year of publications for the above list\n",
    "    \n",
    "    Check the structure and contents of the dataframe\n",
    "\n",
    "    Display number of unique values in each column of the three dataframes\n",
    "\n",
    "    Display data types of each column in the dataframes\n",
    "\n",
    "### - Visualization\n",
    "\n",
    "    Visualizing the distribution of missing values\n",
    "\n",
    "    Distribution of book ratings\n",
    "\n",
    "### - Reasearch questions on the dataset \n",
    "    \n",
    "    Users who gave zero ratings\n",
    "\n",
    "    Display the top 10 publishers and book authors who has most books with 0 ratings\n",
    "\n",
    "    Most popular authors based on the number of books written\n",
    "\n",
    "    Average rating by year of publication\n",
    "\n",
    "    Top 10 most rated books\n",
    "\n",
    "    Top 10 users who rated the most books\n",
    "\n",
    "    Top 10 publishers based on number of books\n",
    "\n",
    "    Who are the most popular authors in the dataset?\n",
    "\n",
    "    What is the average rating of books written by a particular author?\n",
    "\n",
    "    Is there a difference in ratings between fiction and non-fiction books?\n",
    "\n",
    "    Is there a correlation between the publication year of a book and its average rating, and if so, how strong is this correlation?\n",
    "    \n",
    "### - Function-based programming technique\n",
    "\n",
    "### - Collaborative filtering for book recommendater system\n",
    "\n",
    "### - popularity based recommender system  "
   ]
  },
  {
   "cell_type": "markdown",
   "id": "c4113e5e",
   "metadata": {},
   "source": [
    "# CODE"
   ]
  },
  {
   "cell_type": "markdown",
   "id": "d31f789c",
   "metadata": {},
   "source": [
    "## Import the necessary libraries"
   ]
  },
  {
   "cell_type": "code",
   "execution_count": 2,
   "id": "7f222463",
   "metadata": {},
   "outputs": [
    {
     "name": "stderr",
     "output_type": "stream",
     "text": [
      "\n",
      "Bad key text.latex.preview in file C:\\Users\\divya\\Anaconda3\\lib\\site-packages\\matplotlib\\mpl-data\\stylelib\\_classic_test.mplstyle, line 123 ('text.latex.preview : False')\n",
      "You probably need to get an updated matplotlibrc file from\n",
      "https://github.com/matplotlib/matplotlib/blob/v3.5.3/matplotlibrc.template\n",
      "or from the matplotlib source distribution\n",
      "\n",
      "Bad key mathtext.fallback_to_cm in file C:\\Users\\divya\\Anaconda3\\lib\\site-packages\\matplotlib\\mpl-data\\stylelib\\_classic_test.mplstyle, line 155 ('mathtext.fallback_to_cm : True  # When True, use symbols from the Computer Modern')\n",
      "You probably need to get an updated matplotlibrc file from\n",
      "https://github.com/matplotlib/matplotlib/blob/v3.5.3/matplotlibrc.template\n",
      "or from the matplotlib source distribution\n",
      "\n",
      "Bad key savefig.jpeg_quality in file C:\\Users\\divya\\Anaconda3\\lib\\site-packages\\matplotlib\\mpl-data\\stylelib\\_classic_test.mplstyle, line 418 ('savefig.jpeg_quality: 95       # when a jpeg is saved, the default quality parameter.')\n",
      "You probably need to get an updated matplotlibrc file from\n",
      "https://github.com/matplotlib/matplotlib/blob/v3.5.3/matplotlibrc.template\n",
      "or from the matplotlib source distribution\n",
      "\n",
      "Bad key keymap.all_axes in file C:\\Users\\divya\\Anaconda3\\lib\\site-packages\\matplotlib\\mpl-data\\stylelib\\_classic_test.mplstyle, line 466 ('keymap.all_axes : a                 # enable all axes')\n",
      "You probably need to get an updated matplotlibrc file from\n",
      "https://github.com/matplotlib/matplotlib/blob/v3.5.3/matplotlibrc.template\n",
      "or from the matplotlib source distribution\n",
      "\n",
      "Bad key animation.avconv_path in file C:\\Users\\divya\\Anaconda3\\lib\\site-packages\\matplotlib\\mpl-data\\stylelib\\_classic_test.mplstyle, line 477 ('animation.avconv_path: avconv     # Path to avconv binary. Without full path')\n",
      "You probably need to get an updated matplotlibrc file from\n",
      "https://github.com/matplotlib/matplotlib/blob/v3.5.3/matplotlibrc.template\n",
      "or from the matplotlib source distribution\n",
      "\n",
      "Bad key animation.avconv_args in file C:\\Users\\divya\\Anaconda3\\lib\\site-packages\\matplotlib\\mpl-data\\stylelib\\_classic_test.mplstyle, line 479 ('animation.avconv_args:            # Additional arguments to pass to avconv')\n",
      "You probably need to get an updated matplotlibrc file from\n",
      "https://github.com/matplotlib/matplotlib/blob/v3.5.3/matplotlibrc.template\n",
      "or from the matplotlib source distribution\n"
     ]
    }
   ],
   "source": [
    "import pandas as pd\n",
    "\n",
    "import numpy as np\n",
    "\n",
    "import seaborn as sns\n",
    "\n",
    "import matplotlib.pyplot as plt\n",
    "\n",
    "from scipy import stats\n",
    "\n",
    "import missingno as msno"
   ]
  },
  {
   "cell_type": "markdown",
   "id": "d04cd09b",
   "metadata": {},
   "source": [
    "# EDA- Exploratory data analysis"
   ]
  },
  {
   "cell_type": "markdown",
   "id": "334b8fca",
   "metadata": {},
   "source": [
    "### Load the dataset"
   ]
  },
  {
   "cell_type": "code",
   "execution_count": 77,
   "id": "63f75b3e",
   "metadata": {},
   "outputs": [
    {
     "name": "stderr",
     "output_type": "stream",
     "text": [
      "C:\\Users\\divya\\Anaconda3\\lib\\site-packages\\IPython\\core\\interactiveshell.py:3457: DtypeWarning: Columns (3) have mixed types.Specify dtype option on import or set low_memory=False.\n",
      "  exec(code_obj, self.user_global_ns, self.user_ns)\n"
     ]
    }
   ],
   "source": [
    "books = pd.read_csv('Books.csv')\n",
    "\n",
    "users = pd.read_csv('Users.csv')\n",
    "\n",
    "ratings = pd.read_csv('Ratings.csv')"
   ]
  },
  {
   "cell_type": "markdown",
   "id": "44c73047",
   "metadata": {},
   "source": [
    "### Check the number of rows and columns in each dataset"
   ]
  },
  {
   "cell_type": "code",
   "execution_count": 9,
   "id": "b7751c3c",
   "metadata": {},
   "outputs": [
    {
     "name": "stdout",
     "output_type": "stream",
     "text": [
      "Books dataset shape: (271360, 8)\n",
      "Users dataset shape: (278858, 3)\n",
      "Ratings dataset shape: (1149780, 3)\n"
     ]
    }
   ],
   "source": [
    "print(\"Books dataset shape:\", books.shape)\n",
    "\n",
    "print(\"Users dataset shape:\", users.shape)\n",
    "\n",
    "print(\"Ratings dataset shape:\", ratings.shape)"
   ]
  },
  {
   "cell_type": "markdown",
   "id": "9a0e3ce7",
   "metadata": {},
   "source": [
    "### Check for missing values"
   ]
  },
  {
   "cell_type": "code",
   "execution_count": 10,
   "id": "fabd5c74",
   "metadata": {},
   "outputs": [
    {
     "name": "stdout",
     "output_type": "stream",
     "text": [
      "Books missing values: ISBN                   0\n",
      "Book-Title             0\n",
      "Book-Author            1\n",
      "Year-Of-Publication    0\n",
      "Publisher              2\n",
      "Image-URL-S            0\n",
      "Image-URL-M            0\n",
      "Image-URL-L            3\n",
      "dtype: int64\n",
      "Users missing values: User-ID          0\n",
      "Location         0\n",
      "Age         110762\n",
      "dtype: int64\n",
      "Ratings missing values: User-ID        0\n",
      "ISBN           0\n",
      "Book-Rating    0\n",
      "dtype: int64\n"
     ]
    }
   ],
   "source": [
    "print(\"Books missing values:\", books.isnull().sum())\n",
    "\n",
    "print(\"Users missing values:\", users.isnull().sum())\n",
    "\n",
    "print(\"Ratings missing values:\", ratings.isnull().sum())"
   ]
  },
  {
   "cell_type": "markdown",
   "id": "1bd9cf87",
   "metadata": {},
   "source": [
    "There are very few missing values in the dataset, however Age column in Users dataframe has a significant amount of missing values but it can be ignored as age attribute would not be considered for the analysis."
   ]
  },
  {
   "cell_type": "markdown",
   "id": "e34011d3",
   "metadata": {},
   "source": [
    "### Check outliers on 3 dataframes"
   ]
  },
  {
   "cell_type": "code",
   "execution_count": 78,
   "id": "0a3fc8f1",
   "metadata": {},
   "outputs": [
    {
     "name": "stderr",
     "output_type": "stream",
     "text": [
      "C:\\Users\\divya\\Anaconda3\\lib\\site-packages\\IPython\\core\\interactiveshell.py:3457: FutureWarning: The error_bad_lines argument has been deprecated and will be removed in a future version.\n",
      "\n",
      "\n",
      "  exec(code_obj, self.user_global_ns, self.user_ns)\n"
     ]
    },
    {
     "name": "stdout",
     "output_type": "stream",
     "text": [
      "Number of outliers: 0\n"
     ]
    }
   ],
   "source": [
    "ratings_df = pd.read_csv('Ratings.csv', error_bad_lines=False)\n",
    "\n",
    "z_scores = np.abs(stats.zscore(ratings_df['Book-Rating']))\n",
    "outliers = ratings_df[(z_scores > 3)]\n",
    "\n",
    "print(\"Number of outliers:\", len(outliers))\n"
   ]
  },
  {
   "cell_type": "code",
   "execution_count": 79,
   "id": "c15c6818",
   "metadata": {},
   "outputs": [
    {
     "name": "stdout",
     "output_type": "stream",
     "text": [
      "Number of outliers: 0\n"
     ]
    }
   ],
   "source": [
    "books_df =pd.read_csv('books.csv', error_bad_lines=False)\n",
    "# Replace non-numeric values with NaN\n",
    "books_df['Year-Of-Publication'] = pd.to_numeric(books_df['Year-Of-Publication'], errors='coerce')\n",
    "\n",
    "# Drop NaN values\n",
    "books_df.dropna(subset=['Year-Of-Publication'], inplace=True)\n",
    "\n",
    "# Convert 'Year-Of-Publication' column to integers\n",
    "books_df['Year-Of-Publication'] = books_df['Year-Of-Publication'].astype(int)\n",
    "\n",
    "# Calculate z-scores\n",
    "z_scores = np.abs(stats.zscore(books_df['Year-Of-Publication']))\n",
    "\n",
    "# Define threshold for outlier detection\n",
    "threshold = 3\n",
    "\n",
    "# Detect and remove outliers\n",
    "books_df = books_df[(z_scores < threshold)]\n",
    "\n",
    "\n",
    "print(\"Number of outliers:\", len(outliers))"
   ]
  },
  {
   "cell_type": "code",
   "execution_count": 80,
   "id": "74a9dc40",
   "metadata": {},
   "outputs": [
    {
     "name": "stdout",
     "output_type": "stream",
     "text": [
      "Number of outliers: 0\n"
     ]
    }
   ],
   "source": [
    "users_df = pd.read_csv('Users.csv', error_bad_lines=False)\n",
    "\n",
    "# Remove users with invalid age (0)\n",
    "users_df = users_df[users_df['Age'] != 0]\n",
    "\n",
    "z_scores = np.abs(stats.zscore(users_df['Age']))\n",
    "outliers = users_df[(z_scores > 3)]\n",
    "\n",
    "print(\"Number of outliers:\", len(outliers))\n"
   ]
  },
  {
   "cell_type": "markdown",
   "id": "b2c97541",
   "metadata": {},
   "source": [
    "There are no outliers in the 3 dataframes!"
   ]
  },
  {
   "cell_type": "markdown",
   "id": "725d2619",
   "metadata": {},
   "source": [
    "Checking for outliers in a dataset can be important in order to understand the distribution of the data and identify any unusual values or extreme observations that may affect the analysis. \n",
    "Z-score is a measure of how many standard deviations a data point is from the mean.\n",
    "\n",
    "The threshold for identifying an outlier is set as 3. If the absolute Z-score of a value is greater than 3, it is considered an outlier. The outliers are identified by comparing the Z-scores against the threshold, and the rows that contain outliers are stored in a new dataframe called 'outliers'."
   ]
  },
  {
   "cell_type": "markdown",
   "id": "0b8023a8",
   "metadata": {},
   "source": [
    "### checks for duplicates in all three dataframes "
   ]
  },
  {
   "cell_type": "code",
   "execution_count": 19,
   "id": "23174dca",
   "metadata": {},
   "outputs": [
    {
     "name": "stdout",
     "output_type": "stream",
     "text": [
      "No duplicates found in books_df.\n",
      "No duplicates found in users_df.\n",
      "No duplicates found in ratings_df.\n"
     ]
    }
   ],
   "source": [
    "dataframes = [books_df, users_df, ratings_df]\n",
    "\n",
    "for df_name, df in zip(['books_df', 'users_df', 'ratings_df'], dataframes):\n",
    "    duplicate_rows = df[df.duplicated()]\n",
    "\n",
    "    if duplicate_rows.empty:\n",
    "        print(f\"No duplicates found in {df_name}.\")\n",
    "    else:\n",
    "        print(f\"Duplicate rows found in {df_name}:\")\n",
    "        print(duplicate_rows)"
   ]
  },
  {
   "cell_type": "markdown",
   "id": "c2ce842a",
   "metadata": {},
   "source": [
    "### To check if books published after 2022"
   ]
  },
  {
   "cell_type": "code",
   "execution_count": 20,
   "id": "cb041900",
   "metadata": {},
   "outputs": [
    {
     "name": "stderr",
     "output_type": "stream",
     "text": [
      "C:\\Users\\divya\\Anaconda3\\lib\\site-packages\\ipykernel_launcher.py:8: SettingWithCopyWarning: \n",
      "A value is trying to be set on a copy of a slice from a DataFrame.\n",
      "Try using .loc[row_indexer,col_indexer] = value instead\n",
      "\n",
      "See the caveats in the documentation: https://pandas.pydata.org/pandas-docs/stable/user_guide/indexing.html#returning-a-view-versus-a-copy\n",
      "  \n"
     ]
    },
    {
     "data": {
      "text/html": [
       "<div>\n",
       "<style scoped>\n",
       "    .dataframe tbody tr th:only-of-type {\n",
       "        vertical-align: middle;\n",
       "    }\n",
       "\n",
       "    .dataframe tbody tr th {\n",
       "        vertical-align: top;\n",
       "    }\n",
       "\n",
       "    .dataframe thead th {\n",
       "        text-align: right;\n",
       "    }\n",
       "</style>\n",
       "<table border=\"1\" class=\"dataframe\">\n",
       "  <thead>\n",
       "    <tr style=\"text-align: right;\">\n",
       "      <th></th>\n",
       "      <th>ISBN</th>\n",
       "      <th>Book-Title</th>\n",
       "      <th>Book-Author</th>\n",
       "      <th>Year-Of-Publication</th>\n",
       "      <th>Publisher</th>\n",
       "      <th>Image-URL-S</th>\n",
       "      <th>Image-URL-M</th>\n",
       "      <th>Image-URL-L</th>\n",
       "    </tr>\n",
       "  </thead>\n",
       "  <tbody>\n",
       "    <tr>\n",
       "      <th>37487</th>\n",
       "      <td>0671746103</td>\n",
       "      <td>MY TEACHER FRIED MY BRAINS (RACK SIZE) (MY TEA...</td>\n",
       "      <td>Coville</td>\n",
       "      <td>2030</td>\n",
       "      <td>Aladdin</td>\n",
       "      <td>http://images.amazon.com/images/P/0671746103.0...</td>\n",
       "      <td>http://images.amazon.com/images/P/0671746103.0...</td>\n",
       "      <td>http://images.amazon.com/images/P/0671746103.0...</td>\n",
       "    </tr>\n",
       "    <tr>\n",
       "      <th>55676</th>\n",
       "      <td>0671791990</td>\n",
       "      <td>MY TEACHER FLUNKED THE PLANET (RACK SIZE) (MY ...</td>\n",
       "      <td>Bruce Coville</td>\n",
       "      <td>2030</td>\n",
       "      <td>Aladdin</td>\n",
       "      <td>http://images.amazon.com/images/P/0671791990.0...</td>\n",
       "      <td>http://images.amazon.com/images/P/0671791990.0...</td>\n",
       "      <td>http://images.amazon.com/images/P/0671791990.0...</td>\n",
       "    </tr>\n",
       "    <tr>\n",
       "      <th>78168</th>\n",
       "      <td>0870449842</td>\n",
       "      <td>Crossing America</td>\n",
       "      <td>National Geographic Society</td>\n",
       "      <td>2030</td>\n",
       "      <td>National Geographic</td>\n",
       "      <td>http://images.amazon.com/images/P/0870449842.0...</td>\n",
       "      <td>http://images.amazon.com/images/P/0870449842.0...</td>\n",
       "      <td>http://images.amazon.com/images/P/0870449842.0...</td>\n",
       "    </tr>\n",
       "    <tr>\n",
       "      <th>80264</th>\n",
       "      <td>0140301690</td>\n",
       "      <td>Alice's Adventures in Wonderland and Through t...</td>\n",
       "      <td>Lewis Carroll</td>\n",
       "      <td>2050</td>\n",
       "      <td>Puffin Books</td>\n",
       "      <td>http://images.amazon.com/images/P/0140301690.0...</td>\n",
       "      <td>http://images.amazon.com/images/P/0140301690.0...</td>\n",
       "      <td>http://images.amazon.com/images/P/0140301690.0...</td>\n",
       "    </tr>\n",
       "    <tr>\n",
       "      <th>97826</th>\n",
       "      <td>0140201092</td>\n",
       "      <td>Outline of European Architecture (Pelican S.)</td>\n",
       "      <td>Nikolaus Pevsner</td>\n",
       "      <td>2050</td>\n",
       "      <td>Penguin USA</td>\n",
       "      <td>http://images.amazon.com/images/P/0140201092.0...</td>\n",
       "      <td>http://images.amazon.com/images/P/0140201092.0...</td>\n",
       "      <td>http://images.amazon.com/images/P/0140201092.0...</td>\n",
       "    </tr>\n",
       "    <tr>\n",
       "      <th>116053</th>\n",
       "      <td>0394701658</td>\n",
       "      <td>Three Plays of Eugene Oneill</td>\n",
       "      <td>Eugene O'Neill</td>\n",
       "      <td>2038</td>\n",
       "      <td>Vintage Books USA</td>\n",
       "      <td>http://images.amazon.com/images/P/0394701658.0...</td>\n",
       "      <td>http://images.amazon.com/images/P/0394701658.0...</td>\n",
       "      <td>http://images.amazon.com/images/P/0394701658.0...</td>\n",
       "    </tr>\n",
       "    <tr>\n",
       "      <th>118294</th>\n",
       "      <td>3442436893</td>\n",
       "      <td>Das groÃ?Â?e BÃ?Â¶se- MÃ?Â¤dchen- Lesebuch.</td>\n",
       "      <td>Kathy Lette</td>\n",
       "      <td>2026</td>\n",
       "      <td>Goldmann</td>\n",
       "      <td>http://images.amazon.com/images/P/3442436893.0...</td>\n",
       "      <td>http://images.amazon.com/images/P/3442436893.0...</td>\n",
       "      <td>http://images.amazon.com/images/P/3442436893.0...</td>\n",
       "    </tr>\n",
       "    <tr>\n",
       "      <th>192993</th>\n",
       "      <td>0870446924</td>\n",
       "      <td>Field Guide to the Birds of North America, 3rd...</td>\n",
       "      <td>National Geographic Society</td>\n",
       "      <td>2030</td>\n",
       "      <td>National Geographic</td>\n",
       "      <td>http://images.amazon.com/images/P/0870446924.0...</td>\n",
       "      <td>http://images.amazon.com/images/P/0870446924.0...</td>\n",
       "      <td>http://images.amazon.com/images/P/0870446924.0...</td>\n",
       "    </tr>\n",
       "    <tr>\n",
       "      <th>228173</th>\n",
       "      <td>0671266500</td>\n",
       "      <td>FOREST PEOPLE (Touchstone Books (Hardcover))</td>\n",
       "      <td>Colin M. Turnbull</td>\n",
       "      <td>2030</td>\n",
       "      <td>Simon &amp;amp; Schuster</td>\n",
       "      <td>http://images.amazon.com/images/P/0671266500.0...</td>\n",
       "      <td>http://images.amazon.com/images/P/0671266500.0...</td>\n",
       "      <td>http://images.amazon.com/images/P/0671266500.0...</td>\n",
       "    </tr>\n",
       "    <tr>\n",
       "      <th>240169</th>\n",
       "      <td>0684718022</td>\n",
       "      <td>In Our Time: Stories (Scribner Classic)</td>\n",
       "      <td>Ernest Hemingway</td>\n",
       "      <td>2030</td>\n",
       "      <td>Collier Books</td>\n",
       "      <td>http://images.amazon.com/images/P/0684718022.0...</td>\n",
       "      <td>http://images.amazon.com/images/P/0684718022.0...</td>\n",
       "      <td>http://images.amazon.com/images/P/0684718022.0...</td>\n",
       "    </tr>\n",
       "    <tr>\n",
       "      <th>246842</th>\n",
       "      <td>0380000059</td>\n",
       "      <td>CLOUT</td>\n",
       "      <td>D. GIBBONS</td>\n",
       "      <td>2024</td>\n",
       "      <td>Avon</td>\n",
       "      <td>http://images.amazon.com/images/P/0380000059.0...</td>\n",
       "      <td>http://images.amazon.com/images/P/0380000059.0...</td>\n",
       "      <td>http://images.amazon.com/images/P/0380000059.0...</td>\n",
       "    </tr>\n",
       "    <tr>\n",
       "      <th>255409</th>\n",
       "      <td>068471809X</td>\n",
       "      <td>To Have and Have Not</td>\n",
       "      <td>Ernest Hemingway</td>\n",
       "      <td>2037</td>\n",
       "      <td>Simon &amp;amp; Schuster</td>\n",
       "      <td>http://images.amazon.com/images/P/068471809X.0...</td>\n",
       "      <td>http://images.amazon.com/images/P/068471809X.0...</td>\n",
       "      <td>http://images.amazon.com/images/P/068471809X.0...</td>\n",
       "    </tr>\n",
       "    <tr>\n",
       "      <th>260974</th>\n",
       "      <td>0671740989</td>\n",
       "      <td>FOOTBALL SUPER TEAMS : FOOTBALL SUPER TEAMS</td>\n",
       "      <td>Bill Gutman</td>\n",
       "      <td>2030</td>\n",
       "      <td>Simon &amp;amp; Schuster Children's Publishing</td>\n",
       "      <td>http://images.amazon.com/images/P/0671740989.0...</td>\n",
       "      <td>http://images.amazon.com/images/P/0671740989.0...</td>\n",
       "      <td>http://images.amazon.com/images/P/0671740989.0...</td>\n",
       "    </tr>\n",
       "  </tbody>\n",
       "</table>\n",
       "</div>"
      ],
      "text/plain": [
       "              ISBN                                         Book-Title  \\\n",
       "37487   0671746103  MY TEACHER FRIED MY BRAINS (RACK SIZE) (MY TEA...   \n",
       "55676   0671791990  MY TEACHER FLUNKED THE PLANET (RACK SIZE) (MY ...   \n",
       "78168   0870449842                                   Crossing America   \n",
       "80264   0140301690  Alice's Adventures in Wonderland and Through t...   \n",
       "97826   0140201092      Outline of European Architecture (Pelican S.)   \n",
       "116053  0394701658                       Three Plays of Eugene Oneill   \n",
       "118294  3442436893        Das groÃ?Â?e BÃ?Â¶se- MÃ?Â¤dchen- Lesebuch.   \n",
       "192993  0870446924  Field Guide to the Birds of North America, 3rd...   \n",
       "228173  0671266500       FOREST PEOPLE (Touchstone Books (Hardcover))   \n",
       "240169  0684718022            In Our Time: Stories (Scribner Classic)   \n",
       "246842  0380000059                                              CLOUT   \n",
       "255409  068471809X                               To Have and Have Not   \n",
       "260974  0671740989        FOOTBALL SUPER TEAMS : FOOTBALL SUPER TEAMS   \n",
       "\n",
       "                        Book-Author Year-Of-Publication  \\\n",
       "37487                       Coville                2030   \n",
       "55676                 Bruce Coville                2030   \n",
       "78168   National Geographic Society                2030   \n",
       "80264                 Lewis Carroll                2050   \n",
       "97826              Nikolaus Pevsner                2050   \n",
       "116053               Eugene O'Neill                2038   \n",
       "118294                  Kathy Lette                2026   \n",
       "192993  National Geographic Society                2030   \n",
       "228173            Colin M. Turnbull                2030   \n",
       "240169             Ernest Hemingway                2030   \n",
       "246842                   D. GIBBONS                2024   \n",
       "255409             Ernest Hemingway                2037   \n",
       "260974                  Bill Gutman                2030   \n",
       "\n",
       "                                         Publisher  \\\n",
       "37487                                      Aladdin   \n",
       "55676                                      Aladdin   \n",
       "78168                          National Geographic   \n",
       "80264                                 Puffin Books   \n",
       "97826                                  Penguin USA   \n",
       "116053                           Vintage Books USA   \n",
       "118294                                    Goldmann   \n",
       "192993                         National Geographic   \n",
       "228173                        Simon &amp; Schuster   \n",
       "240169                               Collier Books   \n",
       "246842                                        Avon   \n",
       "255409                        Simon &amp; Schuster   \n",
       "260974  Simon &amp; Schuster Children's Publishing   \n",
       "\n",
       "                                              Image-URL-S  \\\n",
       "37487   http://images.amazon.com/images/P/0671746103.0...   \n",
       "55676   http://images.amazon.com/images/P/0671791990.0...   \n",
       "78168   http://images.amazon.com/images/P/0870449842.0...   \n",
       "80264   http://images.amazon.com/images/P/0140301690.0...   \n",
       "97826   http://images.amazon.com/images/P/0140201092.0...   \n",
       "116053  http://images.amazon.com/images/P/0394701658.0...   \n",
       "118294  http://images.amazon.com/images/P/3442436893.0...   \n",
       "192993  http://images.amazon.com/images/P/0870446924.0...   \n",
       "228173  http://images.amazon.com/images/P/0671266500.0...   \n",
       "240169  http://images.amazon.com/images/P/0684718022.0...   \n",
       "246842  http://images.amazon.com/images/P/0380000059.0...   \n",
       "255409  http://images.amazon.com/images/P/068471809X.0...   \n",
       "260974  http://images.amazon.com/images/P/0671740989.0...   \n",
       "\n",
       "                                              Image-URL-M  \\\n",
       "37487   http://images.amazon.com/images/P/0671746103.0...   \n",
       "55676   http://images.amazon.com/images/P/0671791990.0...   \n",
       "78168   http://images.amazon.com/images/P/0870449842.0...   \n",
       "80264   http://images.amazon.com/images/P/0140301690.0...   \n",
       "97826   http://images.amazon.com/images/P/0140201092.0...   \n",
       "116053  http://images.amazon.com/images/P/0394701658.0...   \n",
       "118294  http://images.amazon.com/images/P/3442436893.0...   \n",
       "192993  http://images.amazon.com/images/P/0870446924.0...   \n",
       "228173  http://images.amazon.com/images/P/0671266500.0...   \n",
       "240169  http://images.amazon.com/images/P/0684718022.0...   \n",
       "246842  http://images.amazon.com/images/P/0380000059.0...   \n",
       "255409  http://images.amazon.com/images/P/068471809X.0...   \n",
       "260974  http://images.amazon.com/images/P/0671740989.0...   \n",
       "\n",
       "                                              Image-URL-L  \n",
       "37487   http://images.amazon.com/images/P/0671746103.0...  \n",
       "55676   http://images.amazon.com/images/P/0671791990.0...  \n",
       "78168   http://images.amazon.com/images/P/0870449842.0...  \n",
       "80264   http://images.amazon.com/images/P/0140301690.0...  \n",
       "97826   http://images.amazon.com/images/P/0140201092.0...  \n",
       "116053  http://images.amazon.com/images/P/0394701658.0...  \n",
       "118294  http://images.amazon.com/images/P/3442436893.0...  \n",
       "192993  http://images.amazon.com/images/P/0870446924.0...  \n",
       "228173  http://images.amazon.com/images/P/0671266500.0...  \n",
       "240169  http://images.amazon.com/images/P/0684718022.0...  \n",
       "246842  http://images.amazon.com/images/P/0380000059.0...  \n",
       "255409  http://images.amazon.com/images/P/068471809X.0...  \n",
       "260974  http://images.amazon.com/images/P/0671740989.0...  "
      ]
     },
     "metadata": {},
     "output_type": "display_data"
    }
   ],
   "source": [
    "# Convert the 'Year-Of-Publication' column to numeric type\n",
    "books_df['Year-Of-Publication'] = pd.to_numeric(books_df['Year-Of-Publication'], errors='coerce')\n",
    "\n",
    "# Filter the books dataframe to include only the books published after 2022\n",
    "filtered_books = books_df[books_df['Year-Of-Publication'] > 2022]\n",
    "\n",
    "# Extract the year from the 'Year-Of-Publication' column\n",
    "filtered_books['Year-Of-Publication'] = filtered_books['Year-Of-Publication'].apply(lambda x: str(x)[:4])\n",
    "\n",
    "# Display the filtered books as a table\n",
    "display(filtered_books)"
   ]
  },
  {
   "cell_type": "markdown",
   "id": "5d13cf63",
   "metadata": {},
   "source": [
    "Yeas of publication information is wrongly entered, rectifying it accordingly with the right information."
   ]
  },
  {
   "cell_type": "markdown",
   "id": "4c5e8e6a",
   "metadata": {},
   "source": [
    "### check for book rating of books that were published after 2022"
   ]
  },
  {
   "cell_type": "code",
   "execution_count": 22,
   "id": "b46b73a1",
   "metadata": {},
   "outputs": [
    {
     "name": "stdout",
     "output_type": "stream",
     "text": [
      "+----+-------------------------------------------------------------------------------+-----------------------+---------------+\n",
      "|    | Book-Title                                                                    |   Year-Of-Publication |   Book-Rating |\n",
      "|----+-------------------------------------------------------------------------------+-----------------------+---------------|\n",
      "|  0 | MY TEACHER FRIED MY BRAINS (RACK SIZE) (MY TEACHER BOOKS)                     |                  2030 |             0 |\n",
      "| 13 | MY TEACHER FLUNKED THE PLANET (RACK SIZE) (MY TEACHER BOOKS)                  |                  2030 |             0 |\n",
      "| 23 | Crossing America                                                              |                  2030 |             7 |\n",
      "| 27 | Alice's Adventures in Wonderland and Through the Looking Glass (Puffin Books) |                  2050 |            10 |\n",
      "| 32 | Outline of European Architecture (Pelican S.)                                 |                  2050 |            10 |\n",
      "| 34 | Three Plays of Eugene Oneill                                                  |                  2038 |             0 |\n",
      "| 42 | Das groÃ?Â?e BÃ?Â¶se- MÃ?Â¤dchen- Lesebuch.                                   |                  2026 |             0 |\n",
      "| 47 | Field Guide to the Birds of North America, 3rd Ed.                            |                  2030 |             0 |\n",
      "| 49 | FOREST PEOPLE (Touchstone Books (Hardcover))                                  |                  2030 |             9 |\n",
      "| 50 | In Our Time: Stories (Scribner Classic)                                       |                  2030 |             0 |\n",
      "| 51 | CLOUT                                                                         |                  2024 |             0 |\n",
      "| 52 | To Have and Have Not                                                          |                  2037 |            10 |\n",
      "| 53 | FOOTBALL SUPER TEAMS : FOOTBALL SUPER TEAMS                                   |                  2030 |             0 |\n",
      "+----+-------------------------------------------------------------------------------+-----------------------+---------------+\n"
     ]
    }
   ],
   "source": [
    "from tabulate import tabulate\n",
    "\n",
    "# Filter the books dataframe to include only the books published after 2022\n",
    "filtered_books = books_df[books_df['Year-Of-Publication'] > 2022]\n",
    "\n",
    "# Merge the filtered books with the ratings dataframe on the ISBN column\n",
    "merged_df = filtered_books.merge(ratings_df, on='ISBN')\n",
    "\n",
    "# Drop duplicates based on Book-Title column\n",
    "unique_ratings = merged_df[['Book-Title', 'Year-Of-Publication', 'Book-Rating']].drop_duplicates('Book-Title')\n",
    "\n",
    "# Convert the dataframe to a table format\n",
    "table = tabulate(unique_ratings, headers='keys', tablefmt='psql')\n",
    "\n",
    "# Display the table\n",
    "print(table)"
   ]
  },
  {
   "cell_type": "markdown",
   "id": "7efbf78f",
   "metadata": {},
   "source": [
    "### Update the year of publication column with the correct information"
   ]
  },
  {
   "cell_type": "code",
   "execution_count": 81,
   "id": "3e40efd6",
   "metadata": {},
   "outputs": [],
   "source": [
    "# Update the year-of-publication of the book in the \"books\" dataframe\n",
    "books_df.loc[books_df['Book-Title'] == \"MY TEACHER FRIED MY BRAINS (RACK SIZE) (MY TEACHER BOOKS)\", 'Year-Of-Publication'] = '1991'"
   ]
  },
  {
   "cell_type": "code",
   "execution_count": 25,
   "id": "3f7cb827",
   "metadata": {},
   "outputs": [],
   "source": [
    "# Update the year-of-publication of the book in the \"books\" dataframe\n",
    "books_df.loc[books_df['Book-Title'] == \"MY TEACHER FLUNKED THE PLANET (RACK SIZE) (MY TEACHER BOOKS)\", 'Year-Of-Publication'] = '2003'"
   ]
  },
  {
   "cell_type": "code",
   "execution_count": 26,
   "id": "7f26ca03",
   "metadata": {},
   "outputs": [],
   "source": [
    "# Update the year-of-publication of the book in the \"books\" dataframe\n",
    "books_df.loc[books_df['Book-Title'] == \"Crossing America\", 'Year-Of-Publication'] = '1999'"
   ]
  },
  {
   "cell_type": "code",
   "execution_count": 27,
   "id": "4fdb68e6",
   "metadata": {},
   "outputs": [],
   "source": [
    "# Update the year-of-publication of the book in the \"books\" dataframe\n",
    "books_df.loc[books_df['Book-Title'] == \"Alice's Adventures in Wonderland and Through the Looking Glass (Puffin Books)\", 'Year-Of-Publication'] = '1865'"
   ]
  },
  {
   "cell_type": "code",
   "execution_count": 28,
   "id": "2d9b65d3",
   "metadata": {},
   "outputs": [],
   "source": [
    "# Update the year-of-publication of the book in the \"books\" dataframe\n",
    "books_df.loc[books_df['Book-Title'] == 'Outline of European Architecture (Pelican S.)', 'Year-Of-Publication'] = '1942'"
   ]
  },
  {
   "cell_type": "code",
   "execution_count": 29,
   "id": "53dc9aaa",
   "metadata": {},
   "outputs": [],
   "source": [
    "# Update the year-of-publication of the book in the \"books\" dataframe\n",
    "books_df.loc[books_df['Book-Title'] == 'Three Plays of Eugene Oneill', 'Year-Of-Publication'] = '1959'"
   ]
  },
  {
   "cell_type": "code",
   "execution_count": 30,
   "id": "286d2126",
   "metadata": {},
   "outputs": [],
   "source": [
    "# Update the year-of-publication of the book in the \"books\" dataframe\n",
    "books_df.loc[books_df['Book-Title'] == 'Das groÃ?Â?e BÃ?Â¶se- MÃ?Â¤dchen- Lesebuch.', 'Year-Of-Publication'] = '2006'"
   ]
  },
  {
   "cell_type": "code",
   "execution_count": 31,
   "id": "40ffd4ac",
   "metadata": {},
   "outputs": [],
   "source": [
    "# Update the year-of-publication of the book in the \"books\" dataframe\n",
    "books_df.loc[books_df['Book-Title'] == 'Field Guide to the Birds of North America, 3rd Ed.', 'Year-Of-Publication'] = '1996'"
   ]
  },
  {
   "cell_type": "code",
   "execution_count": 32,
   "id": "d338c430",
   "metadata": {},
   "outputs": [],
   "source": [
    "# Update the year-of-publication of the book in the \"books\" dataframe\n",
    "books_df.loc[books_df['Book-Title'] == 'FOREST PEOPLE (Touchstone Books (Hardcover))', 'Year-Of-Publication'] = '1987'"
   ]
  },
  {
   "cell_type": "code",
   "execution_count": 33,
   "id": "66d0f517",
   "metadata": {},
   "outputs": [],
   "source": [
    "# Update the year-of-publication of the book in the \"books\" dataframe\n",
    "books_df.loc[books_df['Book-Title'] == 'In Our Time: Stories (Scribner Classic)', 'Year-Of-Publication'] = '1925'"
   ]
  },
  {
   "cell_type": "code",
   "execution_count": 34,
   "id": "7db56135",
   "metadata": {},
   "outputs": [],
   "source": [
    "# Update the year-of-publication of the book in the \"books\" dataframe\n",
    "books_df.loc[books_df['Book-Title'] == 'CLOUT', 'Year-Of-Publication'] = '1974'"
   ]
  },
  {
   "cell_type": "code",
   "execution_count": 35,
   "id": "25e8e650",
   "metadata": {},
   "outputs": [],
   "source": [
    "# Update the book title\n",
    "books_df.loc[books_df['Book-Title'] == 'CLOUT', 'Book-Title'] = 'THE CLOUT'"
   ]
  },
  {
   "cell_type": "code",
   "execution_count": 38,
   "id": "e52d2a9d",
   "metadata": {},
   "outputs": [],
   "source": [
    "# Update the year-of-publication of the book in the \"books\" dataframe\n",
    "books_df.loc[books_df['Book-Title'] == 'To Have and Have Not', 'Year-Of-Publication'] = '1937'"
   ]
  },
  {
   "cell_type": "code",
   "execution_count": 39,
   "id": "537298d5",
   "metadata": {},
   "outputs": [],
   "source": [
    "# Update the year-of-publication of the book in the \"books\" dataframe\n",
    "books_df.loc[books_df['Book-Title'] == 'FOOTBALL SUPER TEAMS : FOOTBALL SUPER TEAMS', 'Year-Of-Publication'] = '1991'"
   ]
  },
  {
   "cell_type": "markdown",
   "id": "3f19aa90",
   "metadata": {},
   "source": [
    "### To check the results of the updated year of publications for the above list"
   ]
  },
  {
   "cell_type": "code",
   "execution_count": 40,
   "id": "68f02d3a",
   "metadata": {},
   "outputs": [
    {
     "data": {
      "text/html": [
       "<div>\n",
       "<style scoped>\n",
       "    .dataframe tbody tr th:only-of-type {\n",
       "        vertical-align: middle;\n",
       "    }\n",
       "\n",
       "    .dataframe tbody tr th {\n",
       "        vertical-align: top;\n",
       "    }\n",
       "\n",
       "    .dataframe thead th {\n",
       "        text-align: right;\n",
       "    }\n",
       "</style>\n",
       "<table border=\"1\" class=\"dataframe\">\n",
       "  <thead>\n",
       "    <tr style=\"text-align: right;\">\n",
       "      <th></th>\n",
       "      <th>ISBN</th>\n",
       "      <th>Book-Title</th>\n",
       "      <th>Book-Author</th>\n",
       "      <th>Year-Of-Publication</th>\n",
       "      <th>Publisher</th>\n",
       "      <th>Image-URL-S</th>\n",
       "      <th>Image-URL-M</th>\n",
       "      <th>Image-URL-L</th>\n",
       "    </tr>\n",
       "  </thead>\n",
       "  <tbody>\n",
       "  </tbody>\n",
       "</table>\n",
       "</div>"
      ],
      "text/plain": [
       "Empty DataFrame\n",
       "Columns: [ISBN, Book-Title, Book-Author, Year-Of-Publication, Publisher, Image-URL-S, Image-URL-M, Image-URL-L]\n",
       "Index: []"
      ]
     },
     "metadata": {},
     "output_type": "display_data"
    }
   ],
   "source": [
    "# Convert the 'Year-Of-Publication' column to numeric type\n",
    "books_df['Year-Of-Publication'] = pd.to_numeric(books_df['Year-Of-Publication'], errors='coerce')\n",
    "\n",
    "# Filter the books dataframe to include only the books published after 2022\n",
    "filtered_books = books_df[books_df['Year-Of-Publication'] > 2022]\n",
    "\n",
    "# Convert the 'Year-Of-Publication' column to integer type\n",
    "filtered_books['Year-Of-Publication'] = filtered_books['Year-Of-Publication'].astype(int)\n",
    "\n",
    "# Display the filtered books as a table\n",
    "display(filtered_books)"
   ]
  },
  {
   "cell_type": "markdown",
   "id": "9f636d7c",
   "metadata": {},
   "source": [
    "#### Successfully updated Year-of-publication with the correct information."
   ]
  },
  {
   "cell_type": "markdown",
   "id": "b5bf280c",
   "metadata": {},
   "source": [
    "### Check the structure and contents of the dataframe"
   ]
  },
  {
   "cell_type": "code",
   "execution_count": 42,
   "id": "56763e73",
   "metadata": {},
   "outputs": [
    {
     "data": {
      "text/html": [
       "<div>\n",
       "<style scoped>\n",
       "    .dataframe tbody tr th:only-of-type {\n",
       "        vertical-align: middle;\n",
       "    }\n",
       "\n",
       "    .dataframe tbody tr th {\n",
       "        vertical-align: top;\n",
       "    }\n",
       "\n",
       "    .dataframe thead th {\n",
       "        text-align: right;\n",
       "    }\n",
       "</style>\n",
       "<table border=\"1\" class=\"dataframe\">\n",
       "  <thead>\n",
       "    <tr style=\"text-align: right;\">\n",
       "      <th></th>\n",
       "      <th>ISBN</th>\n",
       "      <th>Book-Title</th>\n",
       "      <th>Book-Author</th>\n",
       "      <th>Year-Of-Publication</th>\n",
       "      <th>Publisher</th>\n",
       "      <th>Image-URL-S</th>\n",
       "      <th>Image-URL-M</th>\n",
       "      <th>Image-URL-L</th>\n",
       "    </tr>\n",
       "  </thead>\n",
       "  <tbody>\n",
       "    <tr>\n",
       "      <th>0</th>\n",
       "      <td>0195153448</td>\n",
       "      <td>Classical Mythology</td>\n",
       "      <td>Mark P. O. Morford</td>\n",
       "      <td>2002</td>\n",
       "      <td>Oxford University Press</td>\n",
       "      <td>http://images.amazon.com/images/P/0195153448.0...</td>\n",
       "      <td>http://images.amazon.com/images/P/0195153448.0...</td>\n",
       "      <td>http://images.amazon.com/images/P/0195153448.0...</td>\n",
       "    </tr>\n",
       "    <tr>\n",
       "      <th>1</th>\n",
       "      <td>0002005018</td>\n",
       "      <td>Clara Callan</td>\n",
       "      <td>Richard Bruce Wright</td>\n",
       "      <td>2001</td>\n",
       "      <td>HarperFlamingo Canada</td>\n",
       "      <td>http://images.amazon.com/images/P/0002005018.0...</td>\n",
       "      <td>http://images.amazon.com/images/P/0002005018.0...</td>\n",
       "      <td>http://images.amazon.com/images/P/0002005018.0...</td>\n",
       "    </tr>\n",
       "    <tr>\n",
       "      <th>2</th>\n",
       "      <td>0060973129</td>\n",
       "      <td>Decision in Normandy</td>\n",
       "      <td>Carlo D'Este</td>\n",
       "      <td>1991</td>\n",
       "      <td>HarperPerennial</td>\n",
       "      <td>http://images.amazon.com/images/P/0060973129.0...</td>\n",
       "      <td>http://images.amazon.com/images/P/0060973129.0...</td>\n",
       "      <td>http://images.amazon.com/images/P/0060973129.0...</td>\n",
       "    </tr>\n",
       "    <tr>\n",
       "      <th>3</th>\n",
       "      <td>0374157065</td>\n",
       "      <td>Flu: The Story of the Great Influenza Pandemic...</td>\n",
       "      <td>Gina Bari Kolata</td>\n",
       "      <td>1999</td>\n",
       "      <td>Farrar Straus Giroux</td>\n",
       "      <td>http://images.amazon.com/images/P/0374157065.0...</td>\n",
       "      <td>http://images.amazon.com/images/P/0374157065.0...</td>\n",
       "      <td>http://images.amazon.com/images/P/0374157065.0...</td>\n",
       "    </tr>\n",
       "    <tr>\n",
       "      <th>4</th>\n",
       "      <td>0393045218</td>\n",
       "      <td>The Mummies of Urumchi</td>\n",
       "      <td>E. J. W. Barber</td>\n",
       "      <td>1999</td>\n",
       "      <td>W. W. Norton &amp;amp; Company</td>\n",
       "      <td>http://images.amazon.com/images/P/0393045218.0...</td>\n",
       "      <td>http://images.amazon.com/images/P/0393045218.0...</td>\n",
       "      <td>http://images.amazon.com/images/P/0393045218.0...</td>\n",
       "    </tr>\n",
       "  </tbody>\n",
       "</table>\n",
       "</div>"
      ],
      "text/plain": [
       "         ISBN                                         Book-Title  \\\n",
       "0  0195153448                                Classical Mythology   \n",
       "1  0002005018                                       Clara Callan   \n",
       "2  0060973129                               Decision in Normandy   \n",
       "3  0374157065  Flu: The Story of the Great Influenza Pandemic...   \n",
       "4  0393045218                             The Mummies of Urumchi   \n",
       "\n",
       "            Book-Author Year-Of-Publication                   Publisher  \\\n",
       "0    Mark P. O. Morford                2002     Oxford University Press   \n",
       "1  Richard Bruce Wright                2001       HarperFlamingo Canada   \n",
       "2          Carlo D'Este                1991             HarperPerennial   \n",
       "3      Gina Bari Kolata                1999        Farrar Straus Giroux   \n",
       "4       E. J. W. Barber                1999  W. W. Norton &amp; Company   \n",
       "\n",
       "                                         Image-URL-S  \\\n",
       "0  http://images.amazon.com/images/P/0195153448.0...   \n",
       "1  http://images.amazon.com/images/P/0002005018.0...   \n",
       "2  http://images.amazon.com/images/P/0060973129.0...   \n",
       "3  http://images.amazon.com/images/P/0374157065.0...   \n",
       "4  http://images.amazon.com/images/P/0393045218.0...   \n",
       "\n",
       "                                         Image-URL-M  \\\n",
       "0  http://images.amazon.com/images/P/0195153448.0...   \n",
       "1  http://images.amazon.com/images/P/0002005018.0...   \n",
       "2  http://images.amazon.com/images/P/0060973129.0...   \n",
       "3  http://images.amazon.com/images/P/0374157065.0...   \n",
       "4  http://images.amazon.com/images/P/0393045218.0...   \n",
       "\n",
       "                                         Image-URL-L  \n",
       "0  http://images.amazon.com/images/P/0195153448.0...  \n",
       "1  http://images.amazon.com/images/P/0002005018.0...  \n",
       "2  http://images.amazon.com/images/P/0060973129.0...  \n",
       "3  http://images.amazon.com/images/P/0374157065.0...  \n",
       "4  http://images.amazon.com/images/P/0393045218.0...  "
      ]
     },
     "execution_count": 42,
     "metadata": {},
     "output_type": "execute_result"
    }
   ],
   "source": [
    "books.head()"
   ]
  },
  {
   "cell_type": "code",
   "execution_count": 43,
   "id": "2a541c8a",
   "metadata": {},
   "outputs": [
    {
     "data": {
      "text/html": [
       "<div>\n",
       "<style scoped>\n",
       "    .dataframe tbody tr th:only-of-type {\n",
       "        vertical-align: middle;\n",
       "    }\n",
       "\n",
       "    .dataframe tbody tr th {\n",
       "        vertical-align: top;\n",
       "    }\n",
       "\n",
       "    .dataframe thead th {\n",
       "        text-align: right;\n",
       "    }\n",
       "</style>\n",
       "<table border=\"1\" class=\"dataframe\">\n",
       "  <thead>\n",
       "    <tr style=\"text-align: right;\">\n",
       "      <th></th>\n",
       "      <th>User-ID</th>\n",
       "      <th>ISBN</th>\n",
       "      <th>Book-Rating</th>\n",
       "    </tr>\n",
       "  </thead>\n",
       "  <tbody>\n",
       "    <tr>\n",
       "      <th>0</th>\n",
       "      <td>276725</td>\n",
       "      <td>034545104X</td>\n",
       "      <td>0</td>\n",
       "    </tr>\n",
       "    <tr>\n",
       "      <th>1</th>\n",
       "      <td>276726</td>\n",
       "      <td>0155061224</td>\n",
       "      <td>5</td>\n",
       "    </tr>\n",
       "    <tr>\n",
       "      <th>2</th>\n",
       "      <td>276727</td>\n",
       "      <td>0446520802</td>\n",
       "      <td>0</td>\n",
       "    </tr>\n",
       "    <tr>\n",
       "      <th>3</th>\n",
       "      <td>276729</td>\n",
       "      <td>052165615X</td>\n",
       "      <td>3</td>\n",
       "    </tr>\n",
       "    <tr>\n",
       "      <th>4</th>\n",
       "      <td>276729</td>\n",
       "      <td>0521795028</td>\n",
       "      <td>6</td>\n",
       "    </tr>\n",
       "  </tbody>\n",
       "</table>\n",
       "</div>"
      ],
      "text/plain": [
       "   User-ID        ISBN  Book-Rating\n",
       "0   276725  034545104X            0\n",
       "1   276726  0155061224            5\n",
       "2   276727  0446520802            0\n",
       "3   276729  052165615X            3\n",
       "4   276729  0521795028            6"
      ]
     },
     "execution_count": 43,
     "metadata": {},
     "output_type": "execute_result"
    }
   ],
   "source": [
    "ratings.head()"
   ]
  },
  {
   "cell_type": "code",
   "execution_count": 44,
   "id": "08477954",
   "metadata": {},
   "outputs": [
    {
     "data": {
      "text/html": [
       "<div>\n",
       "<style scoped>\n",
       "    .dataframe tbody tr th:only-of-type {\n",
       "        vertical-align: middle;\n",
       "    }\n",
       "\n",
       "    .dataframe tbody tr th {\n",
       "        vertical-align: top;\n",
       "    }\n",
       "\n",
       "    .dataframe thead th {\n",
       "        text-align: right;\n",
       "    }\n",
       "</style>\n",
       "<table border=\"1\" class=\"dataframe\">\n",
       "  <thead>\n",
       "    <tr style=\"text-align: right;\">\n",
       "      <th></th>\n",
       "      <th>User-ID</th>\n",
       "      <th>Location</th>\n",
       "      <th>Age</th>\n",
       "    </tr>\n",
       "  </thead>\n",
       "  <tbody>\n",
       "    <tr>\n",
       "      <th>0</th>\n",
       "      <td>1</td>\n",
       "      <td>nyc, new york, usa</td>\n",
       "      <td>NaN</td>\n",
       "    </tr>\n",
       "    <tr>\n",
       "      <th>1</th>\n",
       "      <td>2</td>\n",
       "      <td>stockton, california, usa</td>\n",
       "      <td>18.0</td>\n",
       "    </tr>\n",
       "    <tr>\n",
       "      <th>2</th>\n",
       "      <td>3</td>\n",
       "      <td>moscow, yukon territory, russia</td>\n",
       "      <td>NaN</td>\n",
       "    </tr>\n",
       "    <tr>\n",
       "      <th>3</th>\n",
       "      <td>4</td>\n",
       "      <td>porto, v.n.gaia, portugal</td>\n",
       "      <td>17.0</td>\n",
       "    </tr>\n",
       "    <tr>\n",
       "      <th>4</th>\n",
       "      <td>5</td>\n",
       "      <td>farnborough, hants, united kingdom</td>\n",
       "      <td>NaN</td>\n",
       "    </tr>\n",
       "  </tbody>\n",
       "</table>\n",
       "</div>"
      ],
      "text/plain": [
       "   User-ID                            Location   Age\n",
       "0        1                  nyc, new york, usa   NaN\n",
       "1        2           stockton, california, usa  18.0\n",
       "2        3     moscow, yukon territory, russia   NaN\n",
       "3        4           porto, v.n.gaia, portugal  17.0\n",
       "4        5  farnborough, hants, united kingdom   NaN"
      ]
     },
     "execution_count": 44,
     "metadata": {},
     "output_type": "execute_result"
    }
   ],
   "source": [
    "users.head()"
   ]
  },
  {
   "cell_type": "markdown",
   "id": "85ba42bc",
   "metadata": {},
   "source": [
    "### Display number of unique values in each column of the three dataframes"
   ]
  },
  {
   "cell_type": "code",
   "execution_count": 45,
   "id": "21e9f9fa",
   "metadata": {},
   "outputs": [
    {
     "name": "stdout",
     "output_type": "stream",
     "text": [
      "Unique value counts in users_df:\n",
      "\tUser-ID: 278442\n",
      "\tLocation: 57267\n",
      "\tAge: 164\n",
      "Unique value counts in books_df:\n",
      "\tISBN: 266739\n",
      "\tBook-Title: 238511\n",
      "\tBook-Author: 100668\n",
      "\tYear-Of-Publication: 110\n",
      "\tPublisher: 16394\n",
      "\tImage-URL-S: 266430\n",
      "\tImage-URL-M: 266430\n",
      "\tImage-URL-L: 266430\n",
      "Unique value counts in ratings_df:\n",
      "\tUser-ID: 105283\n",
      "\tISBN: 340556\n",
      "\tBook-Rating: 11\n"
     ]
    }
   ],
   "source": [
    "for name, df in zip(['users_df', 'books_df', 'ratings_df'], [users_df, books_df, ratings_df]):\n",
    "    print(f\"Unique value counts in {name}:\")\n",
    "    for col in df.columns:\n",
    "        print(f\"\\t{col}: {df[col].nunique()}\")"
   ]
  },
  {
   "cell_type": "markdown",
   "id": "101e37f0",
   "metadata": {},
   "source": [
    "This code will iterate over the three dataframes, and for each dataframe, it will print the name of the dataframe and then iterate over the columns of the dataframe, printing the name of each column and the number of unique values in that column.\n",
    "\n",
    "This information is useful to understand the distribution of unique values in each column and identify potential issues such as duplicate entries or missing values. It can also help in selecting appropriate techniques for data analysis and modeling."
   ]
  },
  {
   "cell_type": "markdown",
   "id": "29844735",
   "metadata": {},
   "source": [
    "### Display data types of each column in the dataframes"
   ]
  },
  {
   "cell_type": "code",
   "execution_count": 47,
   "id": "1445e9a2",
   "metadata": {},
   "outputs": [
    {
     "name": "stdout",
     "output_type": "stream",
     "text": [
      "Data types of books dataframe:\n",
      " ISBN                   object\n",
      "Book-Title             object\n",
      "Book-Author            object\n",
      "Year-Of-Publication     int64\n",
      "Publisher              object\n",
      "Image-URL-S            object\n",
      "Image-URL-M            object\n",
      "Image-URL-L            object\n",
      "dtype: object\n",
      "\n",
      "Data types of users dataframe:\n",
      " User-ID       int64\n",
      "Location     object\n",
      "Age         float64\n",
      "dtype: object\n",
      "\n",
      "Data types of ratings dataframe:\n",
      " User-ID         int64\n",
      "ISBN           object\n",
      "Book-Rating     int64\n",
      "dtype: object\n"
     ]
    }
   ],
   "source": [
    "print(\"Data types of books dataframe:\\n\", books_df.dtypes)\n",
    "print(\"\\nData types of users dataframe:\\n\", users_df.dtypes)\n",
    "print(\"\\nData types of ratings dataframe:\\n\", ratings_df.dtypes)"
   ]
  },
  {
   "cell_type": "markdown",
   "id": "96d13cac",
   "metadata": {},
   "source": [
    "# Visualization"
   ]
  },
  {
   "cell_type": "markdown",
   "id": "21650a9a",
   "metadata": {},
   "source": [
    "## Visualizing the distribution of missing values"
   ]
  },
  {
   "cell_type": "code",
   "execution_count": 48,
   "id": "f1c4edf1",
   "metadata": {},
   "outputs": [],
   "source": [
    "def plot_missing_values(df, ds_name):\n",
    "    msno.matrix(df)\n",
    "    plt.title(f'Distribution of Missing Values in {ds_name} dataset', fontsize=30, fontstyle='oblique')\n",
    "    plt.show()"
   ]
  },
  {
   "cell_type": "code",
   "execution_count": 49,
   "id": "38128945",
   "metadata": {},
   "outputs": [
    {
     "data": {
      "image/png": "[encoded data removed]",
      "text/plain": [
       "<Figure size 2500x1000 with 2 Axes>"
      ]
     },
     "metadata": {},
     "output_type": "display_data"
    },
    {
     "data": {
      "image/png": "[encoded data removed]",
      "text/plain": [
       "<Figure size 2500x1000 with 2 Axes>"
      ]
     },
     "metadata": {},
     "output_type": "display_data"
    },
    {
     "data": {
      "image/png": "[encoded data removed]",
      "text/plain": [
       "<Figure size 2500x1000 with 2 Axes>"
      ]
     },
     "metadata": {},
     "output_type": "display_data"
    }
   ],
   "source": [
    "plot_missing_values(books, \"Books\")\n",
    "plot_missing_values(ratings, \"Ratings\")\n",
    "plot_missing_values(users, \"Users\")"
   ]
  },
  {
   "cell_type": "markdown",
   "id": "558c8e47",
   "metadata": {},
   "source": [
    "This code defines a function plot_miss_vals that takes a dataframe and a string as input, and plots the distribution of missing values in the given dataframe using the msno.matrix function from the missingno library.\n",
    "\n",
    "The function is then called three times to plot the distribution of missing values in the books, ratings, and users dataframes.\n",
    "\n",
    "Visualizing the distribution of missing values is useful in identifying patterns and trends of missing data in the dataset. This can help in determining the best strategies for handling the missing values, such as imputing or dropping them.\n",
    "\n"
   ]
  },
  {
   "cell_type": "markdown",
   "id": "5de332ae",
   "metadata": {},
   "source": [
    "## Distribution of book ratings"
   ]
  },
  {
   "cell_type": "code",
   "execution_count": 50,
   "id": "657ed7c3",
   "metadata": {},
   "outputs": [
    {
     "data": {
      "text/plain": [
       "<AxesSubplot:xlabel='Book-Rating', ylabel='count'>"
      ]
     },
     "execution_count": 50,
     "metadata": {},
     "output_type": "execute_result"
    },
    {
     "data": {
      "image/png": "[encoded data removed]",
      "text/plain": [
       "<Figure size 640x480 with 1 Axes>"
      ]
     },
     "metadata": {},
     "output_type": "display_data"
    }
   ],
   "source": [
    "sns.countplot(x='Book-Rating', data=ratings_df)"
   ]
  },
  {
   "cell_type": "markdown",
   "id": "3c252dbd",
   "metadata": {},
   "source": [
    "This code will create a count plot showing the distribution of book ratings in the dataset. This could help identify if users are generally positive or negative in their ratings."
   ]
  },
  {
   "cell_type": "markdown",
   "id": "9e4a4105",
   "metadata": {},
   "source": [
    "## Research questions"
   ]
  },
  {
   "cell_type": "markdown",
   "id": "132b6a62",
   "metadata": {},
   "source": [
    "### Users who gave zero ratings"
   ]
  },
  {
   "cell_type": "code",
   "execution_count": 90,
   "id": "dda9bed7",
   "metadata": {},
   "outputs": [
    {
     "name": "stdout",
     "output_type": "stream",
     "text": [
      "Number of users who gave a rating of 0: 59517\n"
     ]
    }
   ],
   "source": [
    "num_zero_ratings = len(ratings_df[ratings_df['Book-Rating'] == 0]['User-ID'].unique())\n",
    "print(\"Number of users who gave a rating of 0:\", num_zero_ratings)"
   ]
  },
  {
   "cell_type": "markdown",
   "id": "b9f864ab",
   "metadata": {},
   "source": [
    "### Display the top 10 publishers and book authors who has most books with 0 ratings"
   ]
  },
  {
   "cell_type": "code",
   "execution_count": 53,
   "id": "a4620db8",
   "metadata": {},
   "outputs": [
    {
     "data": {
      "text/html": [
       "<div>\n",
       "<style scoped>\n",
       "    .dataframe tbody tr th:only-of-type {\n",
       "        vertical-align: middle;\n",
       "    }\n",
       "\n",
       "    .dataframe tbody tr th {\n",
       "        vertical-align: top;\n",
       "    }\n",
       "\n",
       "    .dataframe thead th {\n",
       "        text-align: right;\n",
       "    }\n",
       "</style>\n",
       "<table border=\"1\" class=\"dataframe\">\n",
       "  <thead>\n",
       "    <tr style=\"text-align: right;\">\n",
       "      <th></th>\n",
       "      <th>Publisher</th>\n",
       "      <th>Book-Author</th>\n",
       "      <th>Count</th>\n",
       "    </tr>\n",
       "  </thead>\n",
       "  <tbody>\n",
       "    <tr>\n",
       "      <th>57531</th>\n",
       "      <td>Jove Books</td>\n",
       "      <td>Nora Roberts</td>\n",
       "      <td>2509</td>\n",
       "    </tr>\n",
       "    <tr>\n",
       "      <th>16455</th>\n",
       "      <td>Berkley Publishing Group</td>\n",
       "      <td>Tom Clancy</td>\n",
       "      <td>2336</td>\n",
       "    </tr>\n",
       "    <tr>\n",
       "      <th>100867</th>\n",
       "      <td>Signet Book</td>\n",
       "      <td>Stephen King</td>\n",
       "      <td>2029</td>\n",
       "    </tr>\n",
       "    <tr>\n",
       "      <th>113027</th>\n",
       "      <td>Too Far</td>\n",
       "      <td>Rich Shapero</td>\n",
       "      <td>1921</td>\n",
       "    </tr>\n",
       "    <tr>\n",
       "      <th>84387</th>\n",
       "      <td>Pocket</td>\n",
       "      <td>Mary Higgins Clark</td>\n",
       "      <td>1864</td>\n",
       "    </tr>\n",
       "    <tr>\n",
       "      <th>101691</th>\n",
       "      <td>Silhouette</td>\n",
       "      <td>Nora Roberts</td>\n",
       "      <td>1846</td>\n",
       "    </tr>\n",
       "    <tr>\n",
       "      <th>15715</th>\n",
       "      <td>Berkley Publishing Group</td>\n",
       "      <td>Dean R. Koontz</td>\n",
       "      <td>1741</td>\n",
       "    </tr>\n",
       "    <tr>\n",
       "      <th>84842</th>\n",
       "      <td>Pocket</td>\n",
       "      <td>V.C. Andrews</td>\n",
       "      <td>1719</td>\n",
       "    </tr>\n",
       "    <tr>\n",
       "      <th>97285</th>\n",
       "      <td>Scholastic</td>\n",
       "      <td>R. L. Stine</td>\n",
       "      <td>1555</td>\n",
       "    </tr>\n",
       "    <tr>\n",
       "      <th>25669</th>\n",
       "      <td>Dell</td>\n",
       "      <td>Danielle Steel</td>\n",
       "      <td>1345</td>\n",
       "    </tr>\n",
       "  </tbody>\n",
       "</table>\n",
       "</div>"
      ],
      "text/plain": [
       "                       Publisher         Book-Author  Count\n",
       "57531                 Jove Books        Nora Roberts   2509\n",
       "16455   Berkley Publishing Group          Tom Clancy   2336\n",
       "100867               Signet Book        Stephen King   2029\n",
       "113027                   Too Far        Rich Shapero   1921\n",
       "84387                     Pocket  Mary Higgins Clark   1864\n",
       "101691                Silhouette        Nora Roberts   1846\n",
       "15715   Berkley Publishing Group      Dean R. Koontz   1741\n",
       "84842                     Pocket        V.C. Andrews   1719\n",
       "97285                 Scholastic         R. L. Stine   1555\n",
       "25669                       Dell      Danielle Steel   1345"
      ]
     },
     "metadata": {},
     "output_type": "display_data"
    }
   ],
   "source": [
    "# Merge the books and ratings dataframes on the ISBN column\n",
    "merged_df = books_df.merge(ratings_df, on='ISBN')\n",
    "\n",
    "# Select only the books with a rating of 0\n",
    "zero_ratings = merged_df[merged_df['Book-Rating'] == 0]\n",
    "\n",
    "# Group the zero ratings by publisher and author, count the number of occurrences\n",
    "publisher_counts = zero_ratings.groupby(['Publisher', 'Book-Author']).size().reset_index(name='Count')\n",
    "\n",
    "# Sort the results by count in descending order\n",
    "publisher_counts = publisher_counts.sort_values(by='Count', ascending=False)\n",
    "\n",
    "# Display the top 10 publishers with the most books with 0 ratings\n",
    "display(publisher_counts.head(10)[['Publisher', 'Book-Author', 'Count']])"
   ]
  },
  {
   "cell_type": "markdown",
   "id": "7372e1e1",
   "metadata": {},
   "source": [
    "### Most popular authors based on the number of books written"
   ]
  },
  {
   "cell_type": "code",
   "execution_count": 54,
   "id": "0b587e88",
   "metadata": {},
   "outputs": [
    {
     "name": "stdout",
     "output_type": "stream",
     "text": [
      "Agatha Christie        598\n",
      "William Shakespeare    559\n",
      "Stephen King           511\n",
      "Ann M. Martin          423\n",
      "Carolyn Keene          372\n",
      "Francine Pascal        372\n",
      "Isaac Asimov           328\n",
      "Nora Roberts           313\n",
      "Barbara Cartland       307\n",
      "Charles Dickens        295\n",
      "Name: Book-Author, dtype: int64\n"
     ]
    }
   ],
   "source": [
    "top_authors = books_df['Book-Author'].value_counts().nlargest(10)\n",
    "print(top_authors)"
   ]
  },
  {
   "cell_type": "markdown",
   "id": "5e8ea4ca",
   "metadata": {},
   "source": [
    "This code will show the top 10 most popular authors in the dataset based on the number of books they have written. This could help identify if there are certain authors that are more popular among readers."
   ]
  },
  {
   "cell_type": "markdown",
   "id": "0b089f6f",
   "metadata": {},
   "source": [
    "### Average rating by year of publication"
   ]
  },
  {
   "cell_type": "code",
   "execution_count": 84,
   "id": "e55173c7",
   "metadata": {},
   "outputs": [
    {
     "name": "stdout",
     "output_type": "stream",
     "text": [
      "Year-Of-Publication\n",
      "1376     4.000000\n",
      "1378    10.000000\n",
      "1806     5.000000\n",
      "1897     0.000000\n",
      "1900     1.750000\n",
      "          ...    \n",
      "2030     3.421053\n",
      "2037    10.000000\n",
      "2038     2.375000\n",
      "2050     4.857143\n",
      "1991     2.461538\n",
      "Name: Book-Rating, Length: 116, dtype: float64\n"
     ]
    }
   ],
   "source": [
    "merged_df = books_df.merge(ratings_df, on='ISBN')\n",
    "avg_rating_by_year = merged_df.groupby('Year-Of-Publication')['Book-Rating'].mean()\n",
    "print(avg_rating_by_year)"
   ]
  },
  {
   "cell_type": "markdown",
   "id": "071b006f",
   "metadata": {},
   "source": [
    "This code will calculate the average rating for books published in each year. This could help identify if there are certain years where books were generally rated higher or lower."
   ]
  },
  {
   "cell_type": "markdown",
   "id": "adf435c2",
   "metadata": {},
   "source": [
    "### Top 10 most rated books"
   ]
  },
  {
   "cell_type": "code",
   "execution_count": 56,
   "id": "dae0d4eb",
   "metadata": {},
   "outputs": [
    {
     "name": "stdout",
     "output_type": "stream",
     "text": [
      "Top 10 most rated books:\n",
      "                                             Book-Title     Book-Author  \\\n",
      "26                                          Wild Animus    Rich Shapero   \n",
      "408                           The Lovely Bones: A Novel    Alice Sebold   \n",
      "748                                   The Da Vinci Code       Dan Brown   \n",
      "1105    Divine Secrets of the Ya-Ya Sisterhood: A Novel   Rebecca Wells   \n",
      "522                 The Red Tent (Bestselling Backlist)   Anita Diamant   \n",
      "305                                     A Painted House    John Grisham   \n",
      "356                             The Secret Life of Bees   Sue Monk Kidd   \n",
      "1922                             Snow Falling on Cedars  David Guterson   \n",
      "118                                 Angels &amp; Demons       Dan Brown   \n",
      "706   Where the Heart Is (Oprah's Book Club (Paperba...    Billie Letts   \n",
      "\n",
      "     Year-Of-Publication  Book-Rating-Count  \n",
      "26                  2004               2502  \n",
      "408                 2002               1295  \n",
      "748                 2003                883  \n",
      "1105                1997                732  \n",
      "522                 1998                723  \n",
      "305                 2001                647  \n",
      "356                 2003                615  \n",
      "1922                1995                614  \n",
      "118                 2001                586  \n",
      "706                 1998                585  \n"
     ]
    }
   ],
   "source": [
    "# Group ratings by ISBN and count the number of ratings for each book\n",
    "ratings_count = ratings['ISBN'].value_counts().rename('Book-Rating-Count')\n",
    "\n",
    "# Merge the ratings_count Series with the books DataFrame on ISBN\n",
    "books_with_count = pd.merge(books, ratings_count, left_on='ISBN', right_index=True)\n",
    "\n",
    "# Sort the books by the rating count and retrieve the top 10 books\n",
    "top_books = books_with_count.sort_values('Book-Rating-Count', ascending=False).head(10)\n",
    "\n",
    "# Print the top 10 most rated books\n",
    "print('Top 10 most rated books:')\n",
    "print(top_books[['Book-Title', 'Book-Author', 'Year-Of-Publication', 'Book-Rating-Count']])"
   ]
  },
  {
   "cell_type": "markdown",
   "id": "583b9f14",
   "metadata": {},
   "source": [
    "### Top 10 users who rated the most books"
   ]
  },
  {
   "cell_type": "code",
   "execution_count": 57,
   "id": "061a9319",
   "metadata": {},
   "outputs": [
    {
     "name": "stdout",
     "output_type": "stream",
     "text": [
      "Top 10 most active users:\n",
      "   User-ID                        Location   Age  Book-Rating\n",
      "0    11676                   n/a, n/a, n/a   NaN        13602\n",
      "1   198711   little canada, minnesota, usa  62.0         7550\n",
      "2   153662       ft. stewart, georgia, usa  44.0         6109\n",
      "3    98391            morrow, georgia, usa  52.0         5891\n",
      "4    35859          duluth, minnesota, usa   NaN         5850\n",
      "5   212898  la ronge, saskatchewan, canada   NaN         4785\n",
      "6   278418            omaha, nebraska, usa   NaN         4533\n",
      "7    76352        olympia, washington, usa  58.0         3367\n",
      "8   110973  wiley ford, west virginia, usa  43.0         3100\n",
      "9   235105         st louis, missouri, usa  46.0         3067\n"
     ]
    }
   ],
   "source": [
    "most_active_users = ratings.groupby('User-ID')['Book-Rating'].count().reset_index().sort_values('Book-Rating', ascending=False).head(10)\n",
    "merged = pd.merge(most_active_users, users, on='User-ID')\n",
    "print('Top 10 most active users:')\n",
    "print(merged[['User-ID', 'Location', 'Age', 'Book-Rating']])"
   ]
  },
  {
   "cell_type": "markdown",
   "id": "5c46f623",
   "metadata": {},
   "source": [
    "### Top 10 publishers based on number of books"
   ]
  },
  {
   "cell_type": "code",
   "execution_count": 61,
   "id": "81e483d3",
   "metadata": {},
   "outputs": [
    {
     "name": "stdout",
     "output_type": "stream",
     "text": [
      "Top 10 publishers based on number of books:\n",
      "Harlequin                   7535\n",
      "Silhouette                  4220\n",
      "Pocket                      3905\n",
      "Ballantine Books            3783\n",
      "Bantam Books                3646\n",
      "Scholastic                  3160\n",
      "Simon &amp; Schuster        2971\n",
      "Penguin Books               2844\n",
      "Berkley Publishing Group    2771\n",
      "Warner Books                2727\n",
      "Name: Publisher, dtype: int64\n"
     ]
    }
   ],
   "source": [
    "top_publishers = books['Publisher'].value_counts().nlargest(10)\n",
    "print('Top 10 publishers based on number of books:')\n",
    "print(top_publishers)"
   ]
  },
  {
   "cell_type": "markdown",
   "id": "9b2bd37c",
   "metadata": {},
   "source": [
    "### Who are the most popular authors in the dataset?"
   ]
  },
  {
   "cell_type": "code",
   "execution_count": 62,
   "id": "2cb79eee",
   "metadata": {},
   "outputs": [
    {
     "name": "stdout",
     "output_type": "stream",
     "text": [
      "              Book-Author  Book-Rating\n",
      "90803        Stephen King        10053\n",
      "73022        Nora Roberts         8429\n",
      "48763        John Grisham         6010\n",
      "42799     James Patterson         5845\n",
      "66135  Mary Higgins Clark         4777\n",
      "21432      Dean R. Koontz         4313\n",
      "95761          Tom Clancy         4036\n",
      "19266      Danielle Steel         3726\n",
      "91816         Sue Grafton         3457\n",
      "43814     Janet Evanovich         3350\n"
     ]
    }
   ],
   "source": [
    "# Merge the datasets on the ISBN column\n",
    "merged_df = pd.merge(books, ratings, on='ISBN')\n",
    "\n",
    "# Group the merged dataframe by author and count the number of ratings for each author\n",
    "author_counts = merged_df.groupby('Book-Author')['Book-Rating'].count().reset_index()\n",
    "\n",
    "# Sort the authors by the number of ratings in descending order\n",
    "popular_authors = author_counts.sort_values('Book-Rating', ascending=False)\n",
    "\n",
    "# Print the top 10 most popular authors\n",
    "print(popular_authors.head(10))"
   ]
  },
  {
   "cell_type": "markdown",
   "id": "3263298c",
   "metadata": {},
   "source": [
    "### What is the average rating of books written by a particular author?"
   ]
  },
  {
   "cell_type": "code",
   "execution_count": 65,
   "id": "b05982bc",
   "metadata": {},
   "outputs": [
    {
     "name": "stdout",
     "output_type": "stream",
     "text": [
      "The average rating of books written by J.K. Rowling is 4.472916666666666\n"
     ]
    }
   ],
   "source": [
    "# Specify the author for which you want to calculate the average rating\n",
    "author_name = 'J.K. Rowling'\n",
    "\n",
    "# Create a new dataframe with the average rating for each book written by the specified author\n",
    "author_ratings = merged_df[merged_df['Book-Author'] == author_name].groupby('Book-Title')['Book-Rating'].mean().reset_index()\n",
    "\n",
    "# Print the average rating of books written by the specified author\n",
    "print(f\"The average rating of books written by {author_name} is {author_ratings['Book-Rating'].mean()}\")"
   ]
  },
  {
   "cell_type": "markdown",
   "id": "1951c014",
   "metadata": {},
   "source": [
    "### Is there a difference in ratings between fiction and non-fiction books?"
   ]
  },
  {
   "cell_type": "code",
   "execution_count": 66,
   "id": "1a259fa0",
   "metadata": {},
   "outputs": [
    {
     "name": "stdout",
     "output_type": "stream",
     "text": [
      "         Genre  Book-Rating\n",
      "0      Fiction     2.986352\n",
      "1  Non-Fiction     2.838315\n"
     ]
    }
   ],
   "source": [
    "# Merge the books and ratings dataframes on the ISBN column\n",
    "merged_df = books.merge(ratings, on='ISBN')\n",
    "\n",
    "# Create a new column called 'Genre' which categorizes books as fiction or non-fiction based on the book title\n",
    "merged_df['Genre'] = merged_df['Book-Title'].apply(lambda x: 'Fiction' if 'fiction' in x.lower() else 'Non-Fiction')\n",
    "\n",
    "# Calculate the average rating for each genre\n",
    "avg_rating_df = merged_df.groupby('Genre')['Book-Rating'].mean().reset_index()\n",
    "\n",
    "print(avg_rating_df)"
   ]
  },
  {
   "cell_type": "markdown",
   "id": "1f1d65f6",
   "metadata": {},
   "source": [
    "Fiction books have a slightly higher rating of (2.99) compared to non-fiction books (2.84)."
   ]
  },
  {
   "cell_type": "markdown",
   "id": "d9250758",
   "metadata": {},
   "source": [
    "### Is there a correlation between the publication year of a book and its average rating, and if so, how strong is this correlation?"
   ]
  },
  {
   "cell_type": "code",
   "execution_count": 68,
   "id": "d632ad68",
   "metadata": {},
   "outputs": [
    {
     "name": "stdout",
     "output_type": "stream",
     "text": [
      "Year-Of-Publication\n",
      "0                     3.132611\n",
      "1806                  5.000000\n",
      "1900                  0.000000\n",
      "1901                  4.571429\n",
      "1902                  1.800000\n",
      "                       ...    \n",
      "2024                  0.000000\n",
      "2030                  3.000000\n",
      "2037                 10.000000\n",
      "DK Publishing Inc     2.333333\n",
      "Gallimard             0.000000\n",
      "Name: Book-Rating, Length: 202, dtype: float64\n"
     ]
    }
   ],
   "source": [
    "# Merge the books and ratings dataframes\n",
    "merged_df = books.merge(ratings, on='ISBN')\n",
    "\n",
    "# Group the merged dataframe by publication year and calculate the average rating for each year\n",
    "avg_rating_by_year = merged_df.groupby('Year-Of-Publication')['Book-Rating'].mean()\n",
    "\n",
    "print(avg_rating_by_year)"
   ]
  },
  {
   "cell_type": "markdown",
   "id": "34a61f62",
   "metadata": {},
   "source": [
    "This code calculates the average rating for books published in each year. This information can be useful in identifying trends in readership preferences over time. For example, it could reveal that books published in certain years consistently receive higher ratings, which could suggest that these books have stood the test of time and continue to be popular among readers. Additionally, this information could be used by publishers or authors to make decisions about which books to reprint or promote based on their past ratings success."
   ]
  },
  {
   "cell_type": "markdown",
   "id": "2f156e0e",
   "metadata": {},
   "source": [
    "### Function-based programming technique"
   ]
  },
  {
   "cell_type": "code",
   "execution_count": 91,
   "id": "ab2adc0a",
   "metadata": {
    "scrolled": true
   },
   "outputs": [
    {
     "data": {
      "text/html": [
       "<div>\n",
       "<style scoped>\n",
       "    .dataframe tbody tr th:only-of-type {\n",
       "        vertical-align: middle;\n",
       "    }\n",
       "\n",
       "    .dataframe tbody tr th {\n",
       "        vertical-align: top;\n",
       "    }\n",
       "\n",
       "    .dataframe thead th {\n",
       "        text-align: right;\n",
       "    }\n",
       "</style>\n",
       "<table border=\"1\" class=\"dataframe\">\n",
       "  <thead>\n",
       "    <tr style=\"text-align: right;\">\n",
       "      <th></th>\n",
       "      <th>Book-Title</th>\n",
       "      <th>Year-Of-Publication</th>\n",
       "      <th>Publisher</th>\n",
       "    </tr>\n",
       "  </thead>\n",
       "  <tbody>\n",
       "    <tr>\n",
       "      <th>368</th>\n",
       "      <td>Heart of the Sea (Irish Trilogy)</td>\n",
       "      <td>2000</td>\n",
       "      <td>Jove Books</td>\n",
       "    </tr>\n",
       "    <tr>\n",
       "      <th>574</th>\n",
       "      <td>Brazen Virtue</td>\n",
       "      <td>1996</td>\n",
       "      <td>Bantam Books</td>\n",
       "    </tr>\n",
       "    <tr>\n",
       "      <th>580</th>\n",
       "      <td>Night Tales</td>\n",
       "      <td>2000</td>\n",
       "      <td>Silhouette</td>\n",
       "    </tr>\n",
       "    <tr>\n",
       "      <th>584</th>\n",
       "      <td>River's End</td>\n",
       "      <td>2003</td>\n",
       "      <td>Jove Books</td>\n",
       "    </tr>\n",
       "    <tr>\n",
       "      <th>783</th>\n",
       "      <td>The Villa</td>\n",
       "      <td>2001</td>\n",
       "      <td>Putnam Publishing Group</td>\n",
       "    </tr>\n",
       "    <tr>\n",
       "      <th>...</th>\n",
       "      <td>...</td>\n",
       "      <td>...</td>\n",
       "      <td>...</td>\n",
       "    </tr>\n",
       "    <tr>\n",
       "      <th>263244</th>\n",
       "      <td>Second Nature</td>\n",
       "      <td>1985</td>\n",
       "      <td>Silhouette</td>\n",
       "    </tr>\n",
       "    <tr>\n",
       "      <th>268834</th>\n",
       "      <td>Lessons Learned #25 (Nora Roberts : Language o...</td>\n",
       "      <td>1993</td>\n",
       "      <td>Silhouette</td>\n",
       "    </tr>\n",
       "    <tr>\n",
       "      <th>269950</th>\n",
       "      <td>Die Tochter des Magiers.</td>\n",
       "      <td>1998</td>\n",
       "      <td>Heyne</td>\n",
       "    </tr>\n",
       "    <tr>\n",
       "      <th>270032</th>\n",
       "      <td>Irish Rose # 3  (Language Of Love) (Language o...</td>\n",
       "      <td>1992</td>\n",
       "      <td>Silhouette</td>\n",
       "    </tr>\n",
       "    <tr>\n",
       "      <th>270033</th>\n",
       "      <td>Reflections #6  (Language Of Love) (Language o...</td>\n",
       "      <td>1992</td>\n",
       "      <td>Silhouette</td>\n",
       "    </tr>\n",
       "  </tbody>\n",
       "</table>\n",
       "<p>315 rows × 3 columns</p>\n",
       "</div>"
      ],
      "text/plain": [
       "                                               Book-Title Year-Of-Publication  \\\n",
       "368                      Heart of the Sea (Irish Trilogy)                2000   \n",
       "574                                         Brazen Virtue                1996   \n",
       "580                                           Night Tales                2000   \n",
       "584                                           River's End                2003   \n",
       "783                                             The Villa                2001   \n",
       "...                                                   ...                 ...   \n",
       "263244                                      Second Nature                1985   \n",
       "268834  Lessons Learned #25 (Nora Roberts : Language o...                1993   \n",
       "269950                           Die Tochter des Magiers.                1998   \n",
       "270032  Irish Rose # 3  (Language Of Love) (Language o...                1992   \n",
       "270033  Reflections #6  (Language Of Love) (Language o...                1992   \n",
       "\n",
       "                      Publisher  \n",
       "368                  Jove Books  \n",
       "574                Bantam Books  \n",
       "580                  Silhouette  \n",
       "584                  Jove Books  \n",
       "783     Putnam Publishing Group  \n",
       "...                         ...  \n",
       "263244               Silhouette  \n",
       "268834               Silhouette  \n",
       "269950                    Heyne  \n",
       "270032               Silhouette  \n",
       "270033               Silhouette  \n",
       "\n",
       "[315 rows x 3 columns]"
      ]
     },
     "execution_count": 91,
     "metadata": {},
     "output_type": "execute_result"
    }
   ],
   "source": [
    "# Create a function that takes input as author name and return a table of books written by that author\n",
    "def books_by_author(author):\n",
    "    books_by_auth = books[books['Book-Author'] == author][['Book-Title', 'Year-Of-Publication', 'Publisher']]\n",
    "    return books_by_auth\n",
    "\n",
    "author_name = \"Nora Roberts\"\n",
    "books_by_author(author_name)"
   ]
  },
  {
   "cell_type": "markdown",
   "id": "aa25b4f4",
   "metadata": {},
   "source": [
    "To use this function, you can assign the author's name to the author_name variable and call the books_by_author function with author_name as the argument. It will return a table of books written by that specified author, which contains the filtered and selected rows from the books dataset."
   ]
  },
  {
   "cell_type": "markdown",
   "id": "5af87c80",
   "metadata": {},
   "source": [
    "### Collaborative filtering for book recommender system"
   ]
  },
  {
   "cell_type": "code",
   "execution_count": 69,
   "id": "59bd3017",
   "metadata": {},
   "outputs": [
    {
     "data": {
      "text/html": [
       "<div>\n",
       "<style scoped>\n",
       "    .dataframe tbody tr th:only-of-type {\n",
       "        vertical-align: middle;\n",
       "    }\n",
       "\n",
       "    .dataframe tbody tr th {\n",
       "        vertical-align: top;\n",
       "    }\n",
       "\n",
       "    .dataframe thead th {\n",
       "        text-align: right;\n",
       "    }\n",
       "</style>\n",
       "<table border=\"1\" class=\"dataframe\">\n",
       "  <thead>\n",
       "    <tr style=\"text-align: right;\">\n",
       "      <th>User-ID</th>\n",
       "      <th>2276</th>\n",
       "      <th>3363</th>\n",
       "      <th>4385</th>\n",
       "      <th>6251</th>\n",
       "      <th>6543</th>\n",
       "      <th>6575</th>\n",
       "      <th>7158</th>\n",
       "      <th>7346</th>\n",
       "      <th>8681</th>\n",
       "      <th>8936</th>\n",
       "      <th>...</th>\n",
       "      <th>270713</th>\n",
       "      <th>271284</th>\n",
       "      <th>273979</th>\n",
       "      <th>274004</th>\n",
       "      <th>274061</th>\n",
       "      <th>274301</th>\n",
       "      <th>274308</th>\n",
       "      <th>275970</th>\n",
       "      <th>277427</th>\n",
       "      <th>278418</th>\n",
       "    </tr>\n",
       "    <tr>\n",
       "      <th>Book-Title</th>\n",
       "      <th></th>\n",
       "      <th></th>\n",
       "      <th></th>\n",
       "      <th></th>\n",
       "      <th></th>\n",
       "      <th></th>\n",
       "      <th></th>\n",
       "      <th></th>\n",
       "      <th></th>\n",
       "      <th></th>\n",
       "      <th></th>\n",
       "      <th></th>\n",
       "      <th></th>\n",
       "      <th></th>\n",
       "      <th></th>\n",
       "      <th></th>\n",
       "      <th></th>\n",
       "      <th></th>\n",
       "      <th></th>\n",
       "      <th></th>\n",
       "      <th></th>\n",
       "    </tr>\n",
       "  </thead>\n",
       "  <tbody>\n",
       "    <tr>\n",
       "      <th>1st to Die: A Novel</th>\n",
       "      <td>0.0</td>\n",
       "      <td>0.0</td>\n",
       "      <td>0.0</td>\n",
       "      <td>0.0</td>\n",
       "      <td>9.0</td>\n",
       "      <td>0.0</td>\n",
       "      <td>0.0</td>\n",
       "      <td>0.0</td>\n",
       "      <td>0.0</td>\n",
       "      <td>0.0</td>\n",
       "      <td>...</td>\n",
       "      <td>0.0</td>\n",
       "      <td>0.0</td>\n",
       "      <td>0.0</td>\n",
       "      <td>0.0</td>\n",
       "      <td>0.0</td>\n",
       "      <td>0.0</td>\n",
       "      <td>0.0</td>\n",
       "      <td>0.0</td>\n",
       "      <td>0.0</td>\n",
       "      <td>0.0</td>\n",
       "    </tr>\n",
       "    <tr>\n",
       "      <th>2nd Chance</th>\n",
       "      <td>10.0</td>\n",
       "      <td>0.0</td>\n",
       "      <td>0.0</td>\n",
       "      <td>0.0</td>\n",
       "      <td>0.0</td>\n",
       "      <td>0.0</td>\n",
       "      <td>0.0</td>\n",
       "      <td>0.0</td>\n",
       "      <td>0.0</td>\n",
       "      <td>0.0</td>\n",
       "      <td>...</td>\n",
       "      <td>0.0</td>\n",
       "      <td>0.0</td>\n",
       "      <td>0.0</td>\n",
       "      <td>0.0</td>\n",
       "      <td>0.0</td>\n",
       "      <td>0.0</td>\n",
       "      <td>0.0</td>\n",
       "      <td>0.0</td>\n",
       "      <td>0.0</td>\n",
       "      <td>0.0</td>\n",
       "    </tr>\n",
       "    <tr>\n",
       "      <th>4 Blondes</th>\n",
       "      <td>0.0</td>\n",
       "      <td>0.0</td>\n",
       "      <td>0.0</td>\n",
       "      <td>0.0</td>\n",
       "      <td>0.0</td>\n",
       "      <td>0.0</td>\n",
       "      <td>0.0</td>\n",
       "      <td>0.0</td>\n",
       "      <td>0.0</td>\n",
       "      <td>0.0</td>\n",
       "      <td>...</td>\n",
       "      <td>0.0</td>\n",
       "      <td>0.0</td>\n",
       "      <td>0.0</td>\n",
       "      <td>0.0</td>\n",
       "      <td>0.0</td>\n",
       "      <td>0.0</td>\n",
       "      <td>0.0</td>\n",
       "      <td>0.0</td>\n",
       "      <td>0.0</td>\n",
       "      <td>0.0</td>\n",
       "    </tr>\n",
       "    <tr>\n",
       "      <th>A Bend in the Road</th>\n",
       "      <td>0.0</td>\n",
       "      <td>0.0</td>\n",
       "      <td>0.0</td>\n",
       "      <td>0.0</td>\n",
       "      <td>0.0</td>\n",
       "      <td>1.0</td>\n",
       "      <td>0.0</td>\n",
       "      <td>0.0</td>\n",
       "      <td>0.0</td>\n",
       "      <td>0.0</td>\n",
       "      <td>...</td>\n",
       "      <td>0.0</td>\n",
       "      <td>0.0</td>\n",
       "      <td>0.0</td>\n",
       "      <td>0.0</td>\n",
       "      <td>0.0</td>\n",
       "      <td>0.0</td>\n",
       "      <td>0.0</td>\n",
       "      <td>0.0</td>\n",
       "      <td>0.0</td>\n",
       "      <td>0.0</td>\n",
       "    </tr>\n",
       "    <tr>\n",
       "      <th>A Case of Need</th>\n",
       "      <td>0.0</td>\n",
       "      <td>0.0</td>\n",
       "      <td>0.0</td>\n",
       "      <td>0.0</td>\n",
       "      <td>0.0</td>\n",
       "      <td>0.0</td>\n",
       "      <td>0.0</td>\n",
       "      <td>0.0</td>\n",
       "      <td>0.0</td>\n",
       "      <td>0.0</td>\n",
       "      <td>...</td>\n",
       "      <td>0.0</td>\n",
       "      <td>0.0</td>\n",
       "      <td>0.0</td>\n",
       "      <td>0.0</td>\n",
       "      <td>0.0</td>\n",
       "      <td>0.0</td>\n",
       "      <td>7.0</td>\n",
       "      <td>0.0</td>\n",
       "      <td>0.0</td>\n",
       "      <td>0.0</td>\n",
       "    </tr>\n",
       "    <tr>\n",
       "      <th>...</th>\n",
       "      <td>...</td>\n",
       "      <td>...</td>\n",
       "      <td>...</td>\n",
       "      <td>...</td>\n",
       "      <td>...</td>\n",
       "      <td>...</td>\n",
       "      <td>...</td>\n",
       "      <td>...</td>\n",
       "      <td>...</td>\n",
       "      <td>...</td>\n",
       "      <td>...</td>\n",
       "      <td>...</td>\n",
       "      <td>...</td>\n",
       "      <td>...</td>\n",
       "      <td>...</td>\n",
       "      <td>...</td>\n",
       "      <td>...</td>\n",
       "      <td>...</td>\n",
       "      <td>...</td>\n",
       "      <td>...</td>\n",
       "      <td>...</td>\n",
       "    </tr>\n",
       "    <tr>\n",
       "      <th>Without Remorse</th>\n",
       "      <td>0.0</td>\n",
       "      <td>0.0</td>\n",
       "      <td>0.0</td>\n",
       "      <td>0.0</td>\n",
       "      <td>0.0</td>\n",
       "      <td>0.0</td>\n",
       "      <td>0.0</td>\n",
       "      <td>0.0</td>\n",
       "      <td>0.0</td>\n",
       "      <td>0.0</td>\n",
       "      <td>...</td>\n",
       "      <td>0.0</td>\n",
       "      <td>0.0</td>\n",
       "      <td>0.0</td>\n",
       "      <td>0.0</td>\n",
       "      <td>0.0</td>\n",
       "      <td>0.0</td>\n",
       "      <td>0.0</td>\n",
       "      <td>0.0</td>\n",
       "      <td>0.0</td>\n",
       "      <td>0.0</td>\n",
       "    </tr>\n",
       "    <tr>\n",
       "      <th>Wuthering Heights</th>\n",
       "      <td>0.0</td>\n",
       "      <td>0.0</td>\n",
       "      <td>0.0</td>\n",
       "      <td>0.0</td>\n",
       "      <td>0.0</td>\n",
       "      <td>0.0</td>\n",
       "      <td>0.0</td>\n",
       "      <td>0.0</td>\n",
       "      <td>0.0</td>\n",
       "      <td>0.0</td>\n",
       "      <td>...</td>\n",
       "      <td>0.0</td>\n",
       "      <td>0.0</td>\n",
       "      <td>0.0</td>\n",
       "      <td>0.0</td>\n",
       "      <td>0.0</td>\n",
       "      <td>0.0</td>\n",
       "      <td>0.0</td>\n",
       "      <td>0.0</td>\n",
       "      <td>0.0</td>\n",
       "      <td>0.0</td>\n",
       "    </tr>\n",
       "    <tr>\n",
       "      <th>Zen and the Art of Motorcycle Maintenance: An Inquiry into Values</th>\n",
       "      <td>0.0</td>\n",
       "      <td>0.0</td>\n",
       "      <td>0.0</td>\n",
       "      <td>0.0</td>\n",
       "      <td>0.0</td>\n",
       "      <td>0.0</td>\n",
       "      <td>0.0</td>\n",
       "      <td>0.0</td>\n",
       "      <td>0.0</td>\n",
       "      <td>0.0</td>\n",
       "      <td>...</td>\n",
       "      <td>0.0</td>\n",
       "      <td>0.0</td>\n",
       "      <td>0.0</td>\n",
       "      <td>0.0</td>\n",
       "      <td>0.0</td>\n",
       "      <td>0.0</td>\n",
       "      <td>0.0</td>\n",
       "      <td>0.0</td>\n",
       "      <td>0.0</td>\n",
       "      <td>0.0</td>\n",
       "    </tr>\n",
       "    <tr>\n",
       "      <th>Zoya</th>\n",
       "      <td>0.0</td>\n",
       "      <td>0.0</td>\n",
       "      <td>0.0</td>\n",
       "      <td>0.0</td>\n",
       "      <td>0.0</td>\n",
       "      <td>0.0</td>\n",
       "      <td>0.0</td>\n",
       "      <td>0.0</td>\n",
       "      <td>0.0</td>\n",
       "      <td>0.0</td>\n",
       "      <td>...</td>\n",
       "      <td>0.0</td>\n",
       "      <td>0.0</td>\n",
       "      <td>0.0</td>\n",
       "      <td>0.0</td>\n",
       "      <td>0.0</td>\n",
       "      <td>0.0</td>\n",
       "      <td>0.0</td>\n",
       "      <td>0.0</td>\n",
       "      <td>0.0</td>\n",
       "      <td>0.0</td>\n",
       "    </tr>\n",
       "    <tr>\n",
       "      <th>\\O\\\" Is for Outlaw\"</th>\n",
       "      <td>0.0</td>\n",
       "      <td>0.0</td>\n",
       "      <td>0.0</td>\n",
       "      <td>0.0</td>\n",
       "      <td>0.0</td>\n",
       "      <td>0.0</td>\n",
       "      <td>0.0</td>\n",
       "      <td>8.0</td>\n",
       "      <td>0.0</td>\n",
       "      <td>0.0</td>\n",
       "      <td>...</td>\n",
       "      <td>0.0</td>\n",
       "      <td>0.0</td>\n",
       "      <td>0.0</td>\n",
       "      <td>0.0</td>\n",
       "      <td>0.0</td>\n",
       "      <td>8.0</td>\n",
       "      <td>0.0</td>\n",
       "      <td>0.0</td>\n",
       "      <td>0.0</td>\n",
       "      <td>0.0</td>\n",
       "    </tr>\n",
       "  </tbody>\n",
       "</table>\n",
       "<p>477 rows × 497 columns</p>\n",
       "</div>"
      ],
      "text/plain": [
       "User-ID                                             2276    3363    4385    \\\n",
       "Book-Title                                                                   \n",
       "1st to Die: A Novel                                    0.0     0.0     0.0   \n",
       "2nd Chance                                            10.0     0.0     0.0   \n",
       "4 Blondes                                              0.0     0.0     0.0   \n",
       "A Bend in the Road                                     0.0     0.0     0.0   \n",
       "A Case of Need                                         0.0     0.0     0.0   \n",
       "...                                                    ...     ...     ...   \n",
       "Without Remorse                                        0.0     0.0     0.0   \n",
       "Wuthering Heights                                      0.0     0.0     0.0   \n",
       "Zen and the Art of Motorcycle Maintenance: An I...     0.0     0.0     0.0   \n",
       "Zoya                                                   0.0     0.0     0.0   \n",
       "\\O\\\" Is for Outlaw\"                                    0.0     0.0     0.0   \n",
       "\n",
       "User-ID                                             6251    6543    6575    \\\n",
       "Book-Title                                                                   \n",
       "1st to Die: A Novel                                    0.0     9.0     0.0   \n",
       "2nd Chance                                             0.0     0.0     0.0   \n",
       "4 Blondes                                              0.0     0.0     0.0   \n",
       "A Bend in the Road                                     0.0     0.0     1.0   \n",
       "A Case of Need                                         0.0     0.0     0.0   \n",
       "...                                                    ...     ...     ...   \n",
       "Without Remorse                                        0.0     0.0     0.0   \n",
       "Wuthering Heights                                      0.0     0.0     0.0   \n",
       "Zen and the Art of Motorcycle Maintenance: An I...     0.0     0.0     0.0   \n",
       "Zoya                                                   0.0     0.0     0.0   \n",
       "\\O\\\" Is for Outlaw\"                                    0.0     0.0     0.0   \n",
       "\n",
       "User-ID                                             7158    7346    8681    \\\n",
       "Book-Title                                                                   \n",
       "1st to Die: A Novel                                    0.0     0.0     0.0   \n",
       "2nd Chance                                             0.0     0.0     0.0   \n",
       "4 Blondes                                              0.0     0.0     0.0   \n",
       "A Bend in the Road                                     0.0     0.0     0.0   \n",
       "A Case of Need                                         0.0     0.0     0.0   \n",
       "...                                                    ...     ...     ...   \n",
       "Without Remorse                                        0.0     0.0     0.0   \n",
       "Wuthering Heights                                      0.0     0.0     0.0   \n",
       "Zen and the Art of Motorcycle Maintenance: An I...     0.0     0.0     0.0   \n",
       "Zoya                                                   0.0     0.0     0.0   \n",
       "\\O\\\" Is for Outlaw\"                                    0.0     8.0     0.0   \n",
       "\n",
       "User-ID                                             8936    ...  270713  \\\n",
       "Book-Title                                                  ...           \n",
       "1st to Die: A Novel                                    0.0  ...     0.0   \n",
       "2nd Chance                                             0.0  ...     0.0   \n",
       "4 Blondes                                              0.0  ...     0.0   \n",
       "A Bend in the Road                                     0.0  ...     0.0   \n",
       "A Case of Need                                         0.0  ...     0.0   \n",
       "...                                                    ...  ...     ...   \n",
       "Without Remorse                                        0.0  ...     0.0   \n",
       "Wuthering Heights                                      0.0  ...     0.0   \n",
       "Zen and the Art of Motorcycle Maintenance: An I...     0.0  ...     0.0   \n",
       "Zoya                                                   0.0  ...     0.0   \n",
       "\\O\\\" Is for Outlaw\"                                    0.0  ...     0.0   \n",
       "\n",
       "User-ID                                             271284  273979  274004  \\\n",
       "Book-Title                                                                   \n",
       "1st to Die: A Novel                                    0.0     0.0     0.0   \n",
       "2nd Chance                                             0.0     0.0     0.0   \n",
       "4 Blondes                                              0.0     0.0     0.0   \n",
       "A Bend in the Road                                     0.0     0.0     0.0   \n",
       "A Case of Need                                         0.0     0.0     0.0   \n",
       "...                                                    ...     ...     ...   \n",
       "Without Remorse                                        0.0     0.0     0.0   \n",
       "Wuthering Heights                                      0.0     0.0     0.0   \n",
       "Zen and the Art of Motorcycle Maintenance: An I...     0.0     0.0     0.0   \n",
       "Zoya                                                   0.0     0.0     0.0   \n",
       "\\O\\\" Is for Outlaw\"                                    0.0     0.0     0.0   \n",
       "\n",
       "User-ID                                             274061  274301  274308  \\\n",
       "Book-Title                                                                   \n",
       "1st to Die: A Novel                                    0.0     0.0     0.0   \n",
       "2nd Chance                                             0.0     0.0     0.0   \n",
       "4 Blondes                                              0.0     0.0     0.0   \n",
       "A Bend in the Road                                     0.0     0.0     0.0   \n",
       "A Case of Need                                         0.0     0.0     7.0   \n",
       "...                                                    ...     ...     ...   \n",
       "Without Remorse                                        0.0     0.0     0.0   \n",
       "Wuthering Heights                                      0.0     0.0     0.0   \n",
       "Zen and the Art of Motorcycle Maintenance: An I...     0.0     0.0     0.0   \n",
       "Zoya                                                   0.0     0.0     0.0   \n",
       "\\O\\\" Is for Outlaw\"                                    0.0     8.0     0.0   \n",
       "\n",
       "User-ID                                             275970  277427  278418  \n",
       "Book-Title                                                                  \n",
       "1st to Die: A Novel                                    0.0     0.0     0.0  \n",
       "2nd Chance                                             0.0     0.0     0.0  \n",
       "4 Blondes                                              0.0     0.0     0.0  \n",
       "A Bend in the Road                                     0.0     0.0     0.0  \n",
       "A Case of Need                                         0.0     0.0     0.0  \n",
       "...                                                    ...     ...     ...  \n",
       "Without Remorse                                        0.0     0.0     0.0  \n",
       "Wuthering Heights                                      0.0     0.0     0.0  \n",
       "Zen and the Art of Motorcycle Maintenance: An I...     0.0     0.0     0.0  \n",
       "Zoya                                                   0.0     0.0     0.0  \n",
       "\\O\\\" Is for Outlaw\"                                    0.0     0.0     0.0  \n",
       "\n",
       "[477 rows x 497 columns]"
      ]
     },
     "execution_count": 69,
     "metadata": {},
     "output_type": "execute_result"
    }
   ],
   "source": [
    "merge_ratings = ratings.merge(books,on='ISBN')\n",
    "\n",
    "x = merge_ratings.groupby('User-ID').count()['Book-Rating'] > 300\n",
    "active_users = x[x].index\n",
    "\n",
    "filtered_rating = merge_ratings[merge_ratings['User-ID'].isin(active_users)]\n",
    "\n",
    "y = filtered_rating.groupby('Book-Title').count()['Book-Rating']>=50\n",
    "famous_books = y[y].index\n",
    "\n",
    "final_ratings = filtered_rating[filtered_rating['Book-Title'].isin(famous_books)]\n",
    "\n",
    "table = final_ratings.pivot_table(index='Book-Title',columns='User-ID',values='Book-Rating')\n",
    "\n",
    "table.fillna(0,inplace=True)\n",
    "\n",
    "table"
   ]
  },
  {
   "cell_type": "code",
   "execution_count": 70,
   "id": "912c9756",
   "metadata": {},
   "outputs": [
    {
     "data": {
      "text/plain": [
       "(477, 477)"
      ]
     },
     "execution_count": 70,
     "metadata": {},
     "output_type": "execute_result"
    }
   ],
   "source": [
    "from sklearn.metrics.pairwise import cosine_similarity\n",
    "similarity_scores = cosine_similarity(table)\n",
    "similarity_scores.shape"
   ]
  },
  {
   "cell_type": "code",
   "execution_count": 71,
   "id": "b54115c2",
   "metadata": {},
   "outputs": [],
   "source": [
    "def recommend(book_name):\n",
    "    # index fetch\n",
    "    index = np.where(table.index==book_name)[0][0]\n",
    "    similar_items = sorted(list(enumerate(similarity_scores[index])),key=lambda x:x[1],reverse=True)[1:5]\n",
    "    \n",
    "    data = []\n",
    "    for i in similar_items:\n",
    "        item = []\n",
    "        temp_df = books[books['Book-Title'] == table.index[i[0]]]\n",
    "        item.extend(list(temp_df.drop_duplicates('Book-Title')['Book-Title'].values))\n",
    "        item.extend(list(temp_df.drop_duplicates('Book-Title')['Book-Author'].values))\n",
    "        item.extend(list(temp_df.drop_duplicates('Book-Title')['Image-URL-M'].values))\n",
    "        \n",
    "        data.append(item)\n",
    "    \n",
    "    return data"
   ]
  },
  {
   "cell_type": "markdown",
   "id": "77bec9cb",
   "metadata": {},
   "source": [
    "This code is creating a pivot table where each row represents a book title and each column represents a user ID. \n",
    "The values in the pivot table represent the book ratings given by the respective user for the respective book. \n",
    "The pivot table is created by filtering out the users who have given less than 300 ratings and the books which have received less than 50 ratings. \n",
    "The missing values in the pivot table are then filled with zeros.\n",
    "\n",
    "The first line filters the users who have rated at least 200 books and returns their User-ID.\n",
    "The second line filters the ratings dataframe based on the User-ID filtered in the previous step and returns only those books which have been rated at least 50 times.\n",
    "The third line creates a pivot table using the filtered ratings dataframe with 'Book-Title' as index, 'User-ID' as columns, and 'Book-Rating' as values.\n",
    "The fourth line fills the NaN values in the pivot table with 0. This is done to make the matrix dense so that it can be used for further calculations.\n",
    "The resulting pivot table contains the ratings for the most famous books, which can be used for further analysis such as collaborative filtering and building a recommendation system."
   ]
  },
  {
   "cell_type": "code",
   "execution_count": 72,
   "id": "39f45377",
   "metadata": {},
   "outputs": [
    {
     "data": {
      "text/plain": [
       "[['The House of the Spirits',\n",
       "  'Isabel Allende',\n",
       "  'http://images.amazon.com/images/P/0553273914.01.MZZZZZZZ.jpg'],\n",
       " ['Pride and Prejudice',\n",
       "  'Jane Austen',\n",
       "  'http://images.amazon.com/images/P/055321215X.01.MZZZZZZZ.jpg'],\n",
       " ['Here on Earth',\n",
       "  'Alice Hoffman',\n",
       "  'http://images.amazon.com/images/P/0425167313.01.MZZZZZZZ.jpg'],\n",
       " ['The God of Small Things',\n",
       "  'Arundhati Roy',\n",
       "  'http://images.amazon.com/images/P/0060977493.01.MZZZZZZZ.jpg']]"
      ]
     },
     "execution_count": 72,
     "metadata": {},
     "output_type": "execute_result"
    }
   ],
   "source": [
    "recommend('4 Blondes')"
   ]
  },
  {
   "cell_type": "markdown",
   "id": "48bb5895",
   "metadata": {},
   "source": [
    "This will return a list of 4 books that are similar to \"4 Blondes\".\n",
    "\n",
    "This is a function called \"recommend\" that takes a book name as an input parameter. It first finds the index of the input book in the \"table\" pivot table using the \"np.where\" method. Then, it calculates the similarity scores between the input book and all other books in the \"table\" pivot table using the \"similarity_scores\" array. It then sorts the similarity scores in descending order and retrieves the indices of the top 4 similar books using the \"sorted\" method and slicing.\n",
    "\n",
    "The function then creates an empty list called \"data\" and iterates over the top 4 similar book indices. For each similar book, it retrieves its title, author, and image URL from the \"books\" dataframe and appends them to the \"data\" list. Finally, the function returns the \"data\" list containing the titles, authors, and image URLs of the top 4 similar books.\n"
   ]
  },
  {
   "cell_type": "markdown",
   "id": "2b244c3c",
   "metadata": {},
   "source": [
    "### popularity based recommender system"
   ]
  },
  {
   "cell_type": "code",
   "execution_count": 75,
   "id": "790ee965",
   "metadata": {},
   "outputs": [],
   "source": [
    "# Calculate the total number of ratings received by each book\n",
    "ratings_count = ratings.groupby(['ISBN'])['Book-Rating'].count().reset_index().rename(columns={'Book-Rating': 'Rating-Count'})\n",
    "\n",
    "# Merge the ratings count with the books dataframe\n",
    "books_with_ratings = pd.merge(books, ratings_count, on='ISBN', how='left')\n",
    "\n",
    "# Sort the books based on the number of ratings in descending order\n",
    "sorted_books = books_with_ratings.sort_values('Rating-Count', ascending=False)\n",
    "\n",
    "# Return the top-N books as the recommendations\n",
    "def get_top_n_books(n):\n",
    "    top_n_books = sorted_books.head(n)\n",
    "    return top_n_books[['Book-Title', 'Book-Author', 'Year-Of-Publication', 'Publisher']]\n"
   ]
  },
  {
   "cell_type": "markdown",
   "id": "a10da7c9",
   "metadata": {},
   "source": [
    "To build the popularity based recommender system:\n",
    "\n",
    "Calculate the total number of ratings received by each book.\n",
    "Sort the books based on the number of ratings in descending order.\n",
    "Return the top-N books as the recommendations."
   ]
  },
  {
   "cell_type": "markdown",
   "id": "c1d92a71",
   "metadata": {},
   "source": [
    "To use the above recommender system, simply call the get_top_n_books function and pass in the number of books we want as recommendations. For example, to get the top 10 recommended books, "
   ]
  },
  {
   "cell_type": "code",
   "execution_count": 76,
   "id": "b0565fbf",
   "metadata": {},
   "outputs": [
    {
     "data": {
      "text/html": [
       "<div>\n",
       "<style scoped>\n",
       "    .dataframe tbody tr th:only-of-type {\n",
       "        vertical-align: middle;\n",
       "    }\n",
       "\n",
       "    .dataframe tbody tr th {\n",
       "        vertical-align: top;\n",
       "    }\n",
       "\n",
       "    .dataframe thead th {\n",
       "        text-align: right;\n",
       "    }\n",
       "</style>\n",
       "<table border=\"1\" class=\"dataframe\">\n",
       "  <thead>\n",
       "    <tr style=\"text-align: right;\">\n",
       "      <th></th>\n",
       "      <th>Book-Title</th>\n",
       "      <th>Book-Author</th>\n",
       "      <th>Year-Of-Publication</th>\n",
       "      <th>Publisher</th>\n",
       "    </tr>\n",
       "  </thead>\n",
       "  <tbody>\n",
       "    <tr>\n",
       "      <th>26</th>\n",
       "      <td>Wild Animus</td>\n",
       "      <td>Rich Shapero</td>\n",
       "      <td>2004</td>\n",
       "      <td>Too Far</td>\n",
       "    </tr>\n",
       "    <tr>\n",
       "      <th>408</th>\n",
       "      <td>The Lovely Bones: A Novel</td>\n",
       "      <td>Alice Sebold</td>\n",
       "      <td>2002</td>\n",
       "      <td>Little, Brown</td>\n",
       "    </tr>\n",
       "    <tr>\n",
       "      <th>748</th>\n",
       "      <td>The Da Vinci Code</td>\n",
       "      <td>Dan Brown</td>\n",
       "      <td>2003</td>\n",
       "      <td>Doubleday</td>\n",
       "    </tr>\n",
       "    <tr>\n",
       "      <th>1105</th>\n",
       "      <td>Divine Secrets of the Ya-Ya Sisterhood: A Novel</td>\n",
       "      <td>Rebecca Wells</td>\n",
       "      <td>1997</td>\n",
       "      <td>Perennial</td>\n",
       "    </tr>\n",
       "    <tr>\n",
       "      <th>522</th>\n",
       "      <td>The Red Tent (Bestselling Backlist)</td>\n",
       "      <td>Anita Diamant</td>\n",
       "      <td>1998</td>\n",
       "      <td>Picador USA</td>\n",
       "    </tr>\n",
       "    <tr>\n",
       "      <th>305</th>\n",
       "      <td>A Painted House</td>\n",
       "      <td>John Grisham</td>\n",
       "      <td>2001</td>\n",
       "      <td>Dell Publishing Company</td>\n",
       "    </tr>\n",
       "    <tr>\n",
       "      <th>356</th>\n",
       "      <td>The Secret Life of Bees</td>\n",
       "      <td>Sue Monk Kidd</td>\n",
       "      <td>2003</td>\n",
       "      <td>Penguin Books</td>\n",
       "    </tr>\n",
       "    <tr>\n",
       "      <th>1922</th>\n",
       "      <td>Snow Falling on Cedars</td>\n",
       "      <td>David Guterson</td>\n",
       "      <td>1995</td>\n",
       "      <td>Vintage Books USA</td>\n",
       "    </tr>\n",
       "    <tr>\n",
       "      <th>118</th>\n",
       "      <td>Angels &amp;amp; Demons</td>\n",
       "      <td>Dan Brown</td>\n",
       "      <td>2001</td>\n",
       "      <td>Pocket Star</td>\n",
       "    </tr>\n",
       "    <tr>\n",
       "      <th>706</th>\n",
       "      <td>Where the Heart Is (Oprah's Book Club (Paperba...</td>\n",
       "      <td>Billie Letts</td>\n",
       "      <td>1998</td>\n",
       "      <td>Warner Books</td>\n",
       "    </tr>\n",
       "  </tbody>\n",
       "</table>\n",
       "</div>"
      ],
      "text/plain": [
       "                                             Book-Title     Book-Author  \\\n",
       "26                                          Wild Animus    Rich Shapero   \n",
       "408                           The Lovely Bones: A Novel    Alice Sebold   \n",
       "748                                   The Da Vinci Code       Dan Brown   \n",
       "1105    Divine Secrets of the Ya-Ya Sisterhood: A Novel   Rebecca Wells   \n",
       "522                 The Red Tent (Bestselling Backlist)   Anita Diamant   \n",
       "305                                     A Painted House    John Grisham   \n",
       "356                             The Secret Life of Bees   Sue Monk Kidd   \n",
       "1922                             Snow Falling on Cedars  David Guterson   \n",
       "118                                 Angels &amp; Demons       Dan Brown   \n",
       "706   Where the Heart Is (Oprah's Book Club (Paperba...    Billie Letts   \n",
       "\n",
       "     Year-Of-Publication                Publisher  \n",
       "26                  2004                  Too Far  \n",
       "408                 2002            Little, Brown  \n",
       "748                 2003                Doubleday  \n",
       "1105                1997                Perennial  \n",
       "522                 1998              Picador USA  \n",
       "305                 2001  Dell Publishing Company  \n",
       "356                 2003            Penguin Books  \n",
       "1922                1995        Vintage Books USA  \n",
       "118                 2001              Pocket Star  \n",
       "706                 1998             Warner Books  "
      ]
     },
     "execution_count": 76,
     "metadata": {},
     "output_type": "execute_result"
    }
   ],
   "source": [
    "get_top_n_books(10)"
   ]
  },
  {
   "cell_type": "markdown",
   "id": "25897c10",
   "metadata": {},
   "source": [
    "# THE END"
   ]
  }
 ],
 "metadata": {
  "kernelspec": {
   "display_name": "Python 3 (ipykernel)",
   "language": "python",
   "name": "python3"
  },
  "language_info": {
   "codemirror_mode": {
    "name": "ipython",
    "version": 3
   },
   "file_extension": ".py",
   "mimetype": "text/x-python",
   "name": "python",
   "nbconvert_exporter": "python",
   "pygments_lexer": "ipython3",
   "version": "3.7.3"
  }
 },
 "nbformat": 4,
 "nbformat_minor": 5
}
